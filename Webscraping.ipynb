{
 "cells": [
  {
   "cell_type": "code",
   "execution_count": 2,
   "id": "911633b1-8106-46ad-ae90-2c1868a9dab6",
   "metadata": {},
   "outputs": [],
   "source": [
    "import pandas as pd\n",
    "import numpy as np\n",
    "import matplotlib.pyplot as plt\n",
    "\n",
    "#this line is to print the plot in Jupiter notebook\n",
    "%matplotlib inline\n",
    "\n",
    "#This library is to request access to the website for scraping\n",
    "from urllib.request import urlopen \n",
    "from bs4 import BeautifulSoup\n",
    "import re"
   ]
  },
  {
   "cell_type": "code",
   "execution_count": 3,
   "id": "339beae1-8ca2-4641-a059-675ccc201cd5",
   "metadata": {},
   "outputs": [],
   "source": [
    "url=\"https://www.hubertiming.com/results/2018MLK\" #Open Link\n",
    "html=urlopen(url)"
   ]
  },
  {
   "cell_type": "code",
   "execution_count": 4,
   "id": "2604efb2-8d7d-448c-8931-95993f6d9a61",
   "metadata": {},
   "outputs": [],
   "source": [
    "soup=BeautifulSoup(html) #The website data is passed to BeautifulSoup"
   ]
  },
  {
   "cell_type": "code",
   "execution_count": 5,
   "id": "6e0047bd-c137-44e9-a46e-8bb8390aa145",
   "metadata": {},
   "outputs": [
    {
     "name": "stdout",
     "output_type": "stream",
     "text": [
      "Race results for the 2018 MLK Dream Run!\n"
     ]
    }
   ],
   "source": [
    "title=soup.title\n",
    "print(title.text)"
   ]
  },
  {
   "cell_type": "code",
   "execution_count": 7,
   "id": "0f7513c4-3266-423b-a86c-69e8f74cb895",
   "metadata": {},
   "outputs": [
    {
     "name": "stdout",
     "output_type": "stream",
     "text": [
      "https://www.mlkdreamrun.com/\n",
      "mailto:timing@hubertiming.com\n",
      "https://www.hubertiming.com\n",
      "/results/2018MLK10K\n",
      "/results/2018MLK15K\n",
      "/results/summary/2018MLK\n",
      "#tabs-1\n",
      "https://www.hubertiming.com/\n",
      "https://facebook.com/hubertiming/\n"
     ]
    }
   ],
   "source": [
    "links=soup.find_all('a',href=True)\n",
    "for link in links:\n",
    "    print(link['href'])"
   ]
  },
  {
   "cell_type": "code",
   "execution_count": 18,
   "id": "1aee736d-365c-40f0-b34a-7a5fbdf01a83",
   "metadata": {},
   "outputs": [
    {
     "name": "stdout",
     "output_type": "stream",
     "text": [
      "[['190', '2087', '\\r\\n\\r\\n                    LEESHA POSEY\\r\\n\\r\\n                ', 'F', '43', 'PORTLAND', 'OR', '30:17', '1:33:53', '\\r\\n\\r\\n                    112 of 113\\r\\n\\r\\n                ', 'F 40-54', '\\r\\n\\r\\n                    36 of 37\\r\\n\\r\\n                ', '0:00', '1:33:53'], ['191', '1216', '\\r\\n\\r\\n                    ZULMA OCHOA\\r\\n\\r\\n                ', 'F', '40', 'GRESHAM', 'OR', '33:22', '1:43:27', '\\r\\n\\r\\n                    113 of 113\\r\\n\\r\\n                ', 'F 40-54', '\\r\\n\\r\\n                    37 of 37\\r\\n\\r\\n                ', '0:00', '1:43:27']]\n"
     ]
    }
   ],
   "source": [
    "data=[]\n",
    "allrows=soup.find_all(\"tr\")\n",
    "for row in allrows:\n",
    "    row_list=row.find_all(\"td\")\n",
    "    dataRow=[]\n",
    "    for cell in row_list:\n",
    "        dataRow.append(cell.text)\n",
    "    data.append(dataRow)\n",
    "data=data[4:]\n",
    "print(data[-2:])"
   ]
  },
  {
   "cell_type": "code",
   "execution_count": 21,
   "id": "7fc9ca6a-b5cf-4ded-81ef-ece38808ad91",
   "metadata": {},
   "outputs": [
    {
     "name": "stdout",
     "output_type": "stream",
     "text": [
      "     0     1                                                  2     3     4   \\\n",
      "0  None  None                                               None  None  None   \n",
      "1     1  1191  \\r\\n\\r\\n                    MAX RANDOLPH\\r\\n\\r...     M    29   \n",
      "2     2  1080  \\r\\n\\r\\n                    NEED NAME KAISER R...     M    25   \n",
      "3     3  1275  \\r\\n\\r\\n                    DAN FRANEK\\r\\n\\r\\n...     M    52   \n",
      "4     4  1223  \\r\\n\\r\\n                    PAUL TAYLOR\\r\\n\\r\\...     M    54   \n",
      "\n",
      "           5     6     7      8   \\\n",
      "0        None  None  None   None   \n",
      "1  WASHINGTON    DC  5:25  16:48   \n",
      "2    PORTLAND    OR  5:39  17:31   \n",
      "3    PORTLAND    OR  5:53  18:15   \n",
      "4    PORTLAND    OR  5:58  18:31   \n",
      "\n",
      "                                                  9        10  \\\n",
      "0                                               None     None   \n",
      "1  \\r\\n\\r\\n                    1 of 78\\r\\n\\r\\n   ...  M 21-39   \n",
      "2  \\r\\n\\r\\n                    2 of 78\\r\\n\\r\\n   ...  M 21-39   \n",
      "3  \\r\\n\\r\\n                    3 of 78\\r\\n\\r\\n   ...  M 40-54   \n",
      "4  \\r\\n\\r\\n                    4 of 78\\r\\n\\r\\n   ...  M 40-54   \n",
      "\n",
      "                                                  11    12     13  \n",
      "0                                               None  None   None  \n",
      "1  \\r\\n\\r\\n                    1 of 33\\r\\n\\r\\n   ...  0:08  16:56  \n",
      "2  \\r\\n\\r\\n                    2 of 33\\r\\n\\r\\n   ...  0:09  17:40  \n",
      "3  \\r\\n\\r\\n                    1 of 27\\r\\n\\r\\n   ...  0:07  18:22  \n",
      "4  \\r\\n\\r\\n                    2 of 27\\r\\n\\r\\n   ...  0:07  18:38  \n",
      "      0     1                                                  2  3   4   \\\n",
      "187  187  1254  \\r\\n\\r\\n                    CYNTHIA HARRIS\\r\\n...  F  64   \n",
      "188  188  1085  \\r\\n\\r\\n                    EBONY LAWRENCE\\r\\n...  F  30   \n",
      "189  189  1170  \\r\\n\\r\\n                    ANTHONY WILLIAMS\\r...  M  39   \n",
      "190  190  2087  \\r\\n\\r\\n                    LEESHA POSEY\\r\\n\\r...  F  43   \n",
      "191  191  1216  \\r\\n\\r\\n                    ZULMA OCHOA\\r\\n\\r\\...  F  40   \n",
      "\n",
      "           5   6      7        8   \\\n",
      "187  PORTLAND  OR  21:53  1:07:51   \n",
      "188  PORTLAND  OR  22:00  1:08:12   \n",
      "189  PORTLAND  OR  22:19  1:09:11   \n",
      "190  PORTLAND  OR  30:17  1:33:53   \n",
      "191   GRESHAM  OR  33:22  1:43:27   \n",
      "\n",
      "                                                    9        10  \\\n",
      "187  \\r\\n\\r\\n                    110 of 113\\r\\n\\r\\n...    F 55+   \n",
      "188  \\r\\n\\r\\n                    111 of 113\\r\\n\\r\\n...  F 21-39   \n",
      "189  \\r\\n\\r\\n                    78 of 78\\r\\n\\r\\n  ...  M 21-39   \n",
      "190  \\r\\n\\r\\n                    112 of 113\\r\\n\\r\\n...  F 40-54   \n",
      "191  \\r\\n\\r\\n                    113 of 113\\r\\n\\r\\n...  F 40-54   \n",
      "\n",
      "                                                    11    12       13  \n",
      "187  \\r\\n\\r\\n                    14 of 14\\r\\n\\r\\n  ...  1:19  1:09:10  \n",
      "188  \\r\\n\\r\\n                    53 of 53\\r\\n\\r\\n  ...  0:58  1:09:10  \n",
      "189  \\r\\n\\r\\n                    33 of 33\\r\\n\\r\\n  ...  0:08  1:09:19  \n",
      "190  \\r\\n\\r\\n                    36 of 37\\r\\n\\r\\n  ...  0:00  1:33:53  \n",
      "191  \\r\\n\\r\\n                    37 of 37\\r\\n\\r\\n  ...  0:00  1:43:27  \n"
     ]
    }
   ],
   "source": [
    "df=pd.DataFrame(data)\n",
    "print(df.head())\n",
    "print(df.tail())"
   ]
  },
  {
   "cell_type": "code",
   "execution_count": 22,
   "id": "1f66f913-5693-4df3-8a5b-88977696fd9a",
   "metadata": {},
   "outputs": [
    {
     "name": "stdout",
     "output_type": "stream",
     "text": [
      "['Place', 'Bib', 'Name', 'Gender', 'Age', 'City', 'State', 'Chip Pace', 'Time', 'Gender Place', 'Age Group', 'Age Group Place', 'Time to Start', 'Gun Time']\n"
     ]
    }
   ],
   "source": [
    "header_list=[]\n",
    "col_headers=soup.find_all('th')\n",
    "for col in col_headers:\n",
    "    header_list.append(col.text)\n",
    "print(header_list)"
   ]
  },
  {
   "cell_type": "code",
   "execution_count": 26,
   "id": "9ae9a272-21c4-401a-8e76-940a6dedfea9",
   "metadata": {},
   "outputs": [
    {
     "name": "stdout",
     "output_type": "stream",
     "text": [
      "  Place   Bib                                               Name Gender Age  \\\n",
      "1     1  1191  \\r\\n\\r\\n                    MAX RANDOLPH\\r\\n\\r...      M  29   \n",
      "2     2  1080  \\r\\n\\r\\n                    NEED NAME KAISER R...      M  25   \n",
      "\n",
      "         City State Chip Pace   Time  \\\n",
      "1  WASHINGTON    DC      5:25  16:48   \n",
      "2    PORTLAND    OR      5:39  17:31   \n",
      "\n",
      "                                        Gender Place Age Group  \\\n",
      "1  \\r\\n\\r\\n                    1 of 78\\r\\n\\r\\n   ...   M 21-39   \n",
      "2  \\r\\n\\r\\n                    2 of 78\\r\\n\\r\\n   ...   M 21-39   \n",
      "\n",
      "                                     Age Group Place Time to Start Gun Time  \n",
      "1  \\r\\n\\r\\n                    1 of 33\\r\\n\\r\\n   ...          0:08    16:56  \n",
      "2  \\r\\n\\r\\n                    2 of 33\\r\\n\\r\\n   ...          0:09    17:40  \n"
     ]
    }
   ],
   "source": [
    "df.columns=header_list\n",
    "print(df[1:3])"
   ]
  },
  {
   "cell_type": "code",
   "execution_count": 27,
   "id": "1e2acd9a-2456-459c-9b8d-33d382b35562",
   "metadata": {},
   "outputs": [
    {
     "name": "stdout",
     "output_type": "stream",
     "text": [
      "<class 'pandas.core.frame.DataFrame'>\n",
      "RangeIndex: 192 entries, 0 to 191\n",
      "Data columns (total 14 columns):\n",
      " #   Column           Non-Null Count  Dtype \n",
      "---  ------           --------------  ----- \n",
      " 0   Place            191 non-null    object\n",
      " 1   Bib              191 non-null    object\n",
      " 2   Name             191 non-null    object\n",
      " 3   Gender           191 non-null    object\n",
      " 4   Age              191 non-null    object\n",
      " 5   City             191 non-null    object\n",
      " 6   State            191 non-null    object\n",
      " 7   Chip Pace        191 non-null    object\n",
      " 8   Time             191 non-null    object\n",
      " 9   Gender Place     191 non-null    object\n",
      " 10  Age Group        191 non-null    object\n",
      " 11  Age Group Place  191 non-null    object\n",
      " 12  Time to Start    191 non-null    object\n",
      " 13  Gun Time         191 non-null    object\n",
      "dtypes: object(14)\n",
      "memory usage: 21.1+ KB\n"
     ]
    }
   ],
   "source": [
    "df.info()"
   ]
  },
  {
   "cell_type": "code",
   "execution_count": 30,
   "id": "c995ec29-8850-4570-92a6-b13d0dd54391",
   "metadata": {},
   "outputs": [
    {
     "data": {
      "text/plain": [
       "(192, 14)"
      ]
     },
     "execution_count": 30,
     "metadata": {},
     "output_type": "execute_result"
    }
   ],
   "source": [
    "df2=df.dropna(how='any')\n",
    "df.shape"
   ]
  },
  {
   "cell_type": "code",
   "execution_count": 42,
   "id": "658c5530-db02-40c8-a6e9-8c654d911379",
   "metadata": {},
   "outputs": [
    {
     "name": "stdout",
     "output_type": "stream",
     "text": [
      "153   1900-01-01 01:00:01\n",
      "154   1900-01-01 01:00:08\n",
      "155   1900-01-01 01:00:09\n",
      "156   1900-01-01 01:00:16\n",
      "157   1900-01-01 01:00:17\n",
      "              ...        \n",
      "148                   NaT\n",
      "149                   NaT\n",
      "150                   NaT\n",
      "151                   NaT\n",
      "152                   NaT\n",
      "Name: Time, Length: 192, dtype: datetime64[ns]\n"
     ]
    },
    {
     "name": "stderr",
     "output_type": "stream",
     "text": [
      "C:\\Users\\Keert\\AppData\\Local\\Temp\\ipykernel_17960\\3870957547.py:2: SettingWithCopyWarning: \n",
      "A value is trying to be set on a copy of a slice from a DataFrame.\n",
      "Try using .loc[row_indexer,col_indexer] = value instead\n",
      "\n",
      "See the caveats in the documentation: https://pandas.pydata.org/pandas-docs/stable/user_guide/indexing.html#returning-a-view-versus-a-copy\n",
      "  df2['Time'] = pd.to_datetime(df2['Time'], format='%H:%M:%S', errors='coerce')\n"
     ]
    }
   ],
   "source": [
    "df2.fillna('00:00')\n",
    "df2['Time'] = pd.to_datetime(df2['Time'], format='%H:%M:%S', errors='coerce') \n",
    "df2 = df2.sort_values('Time')\n",
    "print(df['Time'])"
   ]
  },
  {
   "cell_type": "code",
   "execution_count": 41,
   "id": "da7e8c88-334a-40f5-9d2c-d958d54447a4",
   "metadata": {},
   "outputs": [
    {
     "ename": "ValueError",
     "evalue": "expected hh:mm:ss format",
     "output_type": "error",
     "traceback": [
      "\u001b[1;31m---------------------------------------------------------------------------\u001b[0m",
      "\u001b[1;31mValueError\u001b[0m                                Traceback (most recent call last)",
      "File \u001b[1;32mtimedeltas.pyx:444\u001b[0m, in \u001b[0;36mpandas._libs.tslibs.timedeltas.array_to_timedelta64\u001b[1;34m()\u001b[0m\n",
      "File \u001b[1;32mtimedeltas.pyx:476\u001b[0m, in \u001b[0;36mpandas._libs.tslibs.timedeltas._item_to_timedelta64_fastpath\u001b[1;34m()\u001b[0m\n",
      "File \u001b[1;32mtimedeltas.pyx:642\u001b[0m, in \u001b[0;36mpandas._libs.tslibs.timedeltas.parse_timedelta_string\u001b[1;34m()\u001b[0m\n",
      "\u001b[1;31mValueError\u001b[0m: expected hh:mm:ss format",
      "\nDuring handling of the above exception, another exception occurred:\n",
      "\u001b[1;31mValueError\u001b[0m                                Traceback (most recent call last)",
      "Cell \u001b[1;32mIn[41], line 1\u001b[0m\n\u001b[1;32m----> 1\u001b[0m df2[\u001b[38;5;124m'\u001b[39m\u001b[38;5;124mChipTime_minutes\u001b[39m\u001b[38;5;124m'\u001b[39m]\u001b[38;5;241m=\u001b[39mpd\u001b[38;5;241m.\u001b[39mto_timedelta(df2[\u001b[38;5;124m'\u001b[39m\u001b[38;5;124mTime\u001b[39m\u001b[38;5;124m'\u001b[39m])\n\u001b[0;32m      2\u001b[0m df2[\u001b[38;5;124m'\u001b[39m\u001b[38;5;124mChipTime_minutes\u001b[39m\u001b[38;5;124m'\u001b[39m]\u001b[38;5;241m=\u001b[39mdf2[\u001b[38;5;124m'\u001b[39m\u001b[38;5;124mChipTime_minutes\u001b[39m\u001b[38;5;124m'\u001b[39m]\u001b[38;5;241m.\u001b[39mastype(\u001b[38;5;124m'\u001b[39m\u001b[38;5;124mtimedelta64[s]\u001b[39m\u001b[38;5;124m'\u001b[39m)\u001b[38;5;241m/\u001b[39m\u001b[38;5;241m60\u001b[39m\n\u001b[0;32m      3\u001b[0m df2[[\u001b[38;5;124m'\u001b[39m\u001b[38;5;124mChipTime_minutes\u001b[39m\u001b[38;5;124m'\u001b[39m]]\u001b[38;5;241m.\u001b[39minfo()\n",
      "File \u001b[1;32m~\\anaconda3\\Lib\\site-packages\\pandas\\core\\tools\\timedeltas.py:201\u001b[0m, in \u001b[0;36mto_timedelta\u001b[1;34m(arg, unit, errors)\u001b[0m\n\u001b[0;32m    199\u001b[0m     \u001b[38;5;28;01mreturn\u001b[39;00m arg\n\u001b[0;32m    200\u001b[0m \u001b[38;5;28;01melif\u001b[39;00m \u001b[38;5;28misinstance\u001b[39m(arg, ABCSeries):\n\u001b[1;32m--> 201\u001b[0m     values \u001b[38;5;241m=\u001b[39m _convert_listlike(arg\u001b[38;5;241m.\u001b[39m_values, unit\u001b[38;5;241m=\u001b[39munit, errors\u001b[38;5;241m=\u001b[39merrors)\n\u001b[0;32m    202\u001b[0m     \u001b[38;5;28;01mreturn\u001b[39;00m arg\u001b[38;5;241m.\u001b[39m_constructor(values, index\u001b[38;5;241m=\u001b[39marg\u001b[38;5;241m.\u001b[39mindex, name\u001b[38;5;241m=\u001b[39marg\u001b[38;5;241m.\u001b[39mname)\n\u001b[0;32m    203\u001b[0m \u001b[38;5;28;01melif\u001b[39;00m \u001b[38;5;28misinstance\u001b[39m(arg, ABCIndex):\n",
      "File \u001b[1;32m~\\anaconda3\\Lib\\site-packages\\pandas\\core\\tools\\timedeltas.py:266\u001b[0m, in \u001b[0;36m_convert_listlike\u001b[1;34m(arg, unit, errors, name)\u001b[0m\n\u001b[0;32m    263\u001b[0m     \u001b[38;5;28;01mreturn\u001b[39;00m arg\n\u001b[0;32m    265\u001b[0m \u001b[38;5;28;01mtry\u001b[39;00m:\n\u001b[1;32m--> 266\u001b[0m     td64arr \u001b[38;5;241m=\u001b[39m sequence_to_td64ns(arg, unit\u001b[38;5;241m=\u001b[39munit, errors\u001b[38;5;241m=\u001b[39merrors, copy\u001b[38;5;241m=\u001b[39m\u001b[38;5;28;01mFalse\u001b[39;00m)[\u001b[38;5;241m0\u001b[39m]\n\u001b[0;32m    267\u001b[0m \u001b[38;5;28;01mexcept\u001b[39;00m \u001b[38;5;167;01mValueError\u001b[39;00m:\n\u001b[0;32m    268\u001b[0m     \u001b[38;5;28;01mif\u001b[39;00m errors \u001b[38;5;241m==\u001b[39m \u001b[38;5;124m\"\u001b[39m\u001b[38;5;124mignore\u001b[39m\u001b[38;5;124m\"\u001b[39m:\n",
      "File \u001b[1;32m~\\anaconda3\\Lib\\site-packages\\pandas\\core\\arrays\\timedeltas.py:1062\u001b[0m, in \u001b[0;36msequence_to_td64ns\u001b[1;34m(data, copy, unit, errors)\u001b[0m\n\u001b[0;32m   1059\u001b[0m \u001b[38;5;66;03m# Convert whatever we have into timedelta64[ns] dtype\u001b[39;00m\n\u001b[0;32m   1060\u001b[0m \u001b[38;5;28;01mif\u001b[39;00m data\u001b[38;5;241m.\u001b[39mdtype \u001b[38;5;241m==\u001b[39m \u001b[38;5;28mobject\u001b[39m \u001b[38;5;129;01mor\u001b[39;00m is_string_dtype(data\u001b[38;5;241m.\u001b[39mdtype):\n\u001b[0;32m   1061\u001b[0m     \u001b[38;5;66;03m# no need to make a copy, need to convert if string-dtyped\u001b[39;00m\n\u001b[1;32m-> 1062\u001b[0m     data \u001b[38;5;241m=\u001b[39m _objects_to_td64ns(data, unit\u001b[38;5;241m=\u001b[39munit, errors\u001b[38;5;241m=\u001b[39merrors)\n\u001b[0;32m   1063\u001b[0m     copy \u001b[38;5;241m=\u001b[39m \u001b[38;5;28;01mFalse\u001b[39;00m\n\u001b[0;32m   1065\u001b[0m \u001b[38;5;28;01melif\u001b[39;00m is_integer_dtype(data\u001b[38;5;241m.\u001b[39mdtype):\n\u001b[0;32m   1066\u001b[0m     \u001b[38;5;66;03m# treat as multiples of the given unit\u001b[39;00m\n",
      "File \u001b[1;32m~\\anaconda3\\Lib\\site-packages\\pandas\\core\\arrays\\timedeltas.py:1191\u001b[0m, in \u001b[0;36m_objects_to_td64ns\u001b[1;34m(data, unit, errors)\u001b[0m\n\u001b[0;32m   1188\u001b[0m \u001b[38;5;66;03m# coerce Index to np.ndarray, converting string-dtype if necessary\u001b[39;00m\n\u001b[0;32m   1189\u001b[0m values \u001b[38;5;241m=\u001b[39m np\u001b[38;5;241m.\u001b[39marray(data, dtype\u001b[38;5;241m=\u001b[39mnp\u001b[38;5;241m.\u001b[39mobject_, copy\u001b[38;5;241m=\u001b[39m\u001b[38;5;28;01mFalse\u001b[39;00m)\n\u001b[1;32m-> 1191\u001b[0m result \u001b[38;5;241m=\u001b[39m array_to_timedelta64(values, unit\u001b[38;5;241m=\u001b[39munit, errors\u001b[38;5;241m=\u001b[39merrors)\n\u001b[0;32m   1192\u001b[0m \u001b[38;5;28;01mreturn\u001b[39;00m result\u001b[38;5;241m.\u001b[39mview(\u001b[38;5;124m\"\u001b[39m\u001b[38;5;124mtimedelta64[ns]\u001b[39m\u001b[38;5;124m\"\u001b[39m)\n",
      "File \u001b[1;32mtimedeltas.pyx:458\u001b[0m, in \u001b[0;36mpandas._libs.tslibs.timedeltas.array_to_timedelta64\u001b[1;34m()\u001b[0m\n",
      "File \u001b[1;32mtimedeltas.pyx:497\u001b[0m, in \u001b[0;36mpandas._libs.tslibs.timedeltas._item_to_timedelta64\u001b[1;34m()\u001b[0m\n",
      "File \u001b[1;32mtimedeltas.pyx:488\u001b[0m, in \u001b[0;36mpandas._libs.tslibs.timedeltas._item_to_timedelta64\u001b[1;34m()\u001b[0m\n",
      "File \u001b[1;32mtimedeltas.pyx:367\u001b[0m, in \u001b[0;36mpandas._libs.tslibs.timedeltas.convert_to_timedelta64\u001b[1;34m()\u001b[0m\n",
      "File \u001b[1;32mtimedeltas.pyx:642\u001b[0m, in \u001b[0;36mpandas._libs.tslibs.timedeltas.parse_timedelta_string\u001b[1;34m()\u001b[0m\n",
      "\u001b[1;31mValueError\u001b[0m: expected hh:mm:ss format"
     ]
    }
   ],
   "source": [
    "df2['ChipTime_minutes']=pd.to_timedelta(df2['Time'])\n",
    "df2['ChipTime_minutes']=df2['ChipTime_minutes'].astype('timedelta64[s]')/60\n",
    "df2[['ChipTime_minutes']].info()\n",
    "print(df2.head())"
   ]
  },
  {
   "cell_type": "code",
   "execution_count": null,
   "id": "db7f4276-b912-4033-b7e3-3cb4e2fd857c",
   "metadata": {},
   "outputs": [],
   "source": []
  }
 ],
 "metadata": {
  "kernelspec": {
   "display_name": "Python 3 (ipykernel)",
   "language": "python",
   "name": "python3"
  },
  "language_info": {
   "codemirror_mode": {
    "name": "ipython",
    "version": 3
   },
   "file_extension": ".py",
   "mimetype": "text/x-python",
   "name": "python",
   "nbconvert_exporter": "python",
   "pygments_lexer": "ipython3",
   "version": "3.11.7"
  }
 },
 "nbformat": 4,
 "nbformat_minor": 5
}
