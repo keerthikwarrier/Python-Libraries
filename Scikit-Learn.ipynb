{
 "cells": [
  {
   "cell_type": "markdown",
   "id": "f544997b-bbd4-4715-bfb8-2dab7f3e8b7d",
   "metadata": {},
   "source": [
    "# Understanding the scikit-learn process"
   ]
  },
  {
   "cell_type": "code",
   "execution_count": 2,
   "id": "6d1a89b0-0e68-44fe-a60c-d119a10bf1e8",
   "metadata": {},
   "outputs": [],
   "source": [
    "from sklearn.datasets import load_breast_cancer"
   ]
  },
  {
   "cell_type": "code",
   "execution_count": 3,
   "id": "245845f4-0238-41d9-843b-94294e96419f",
   "metadata": {},
   "outputs": [
    {
     "data": {
      "text/plain": [
       "{'data': array([[1.799e+01, 1.038e+01, 1.228e+02, ..., 2.654e-01, 4.601e-01,\n",
       "         1.189e-01],\n",
       "        [2.057e+01, 1.777e+01, 1.329e+02, ..., 1.860e-01, 2.750e-01,\n",
       "         8.902e-02],\n",
       "        [1.969e+01, 2.125e+01, 1.300e+02, ..., 2.430e-01, 3.613e-01,\n",
       "         8.758e-02],\n",
       "        ...,\n",
       "        [1.660e+01, 2.808e+01, 1.083e+02, ..., 1.418e-01, 2.218e-01,\n",
       "         7.820e-02],\n",
       "        [2.060e+01, 2.933e+01, 1.401e+02, ..., 2.650e-01, 4.087e-01,\n",
       "         1.240e-01],\n",
       "        [7.760e+00, 2.454e+01, 4.792e+01, ..., 0.000e+00, 2.871e-01,\n",
       "         7.039e-02]]),\n",
       " 'target': array([0, 0, 0, 0, 0, 0, 0, 0, 0, 0, 0, 0, 0, 0, 0, 0, 0, 0, 0, 1, 1, 1,\n",
       "        0, 0, 0, 0, 0, 0, 0, 0, 0, 0, 0, 0, 0, 0, 0, 1, 0, 0, 0, 0, 0, 0,\n",
       "        0, 0, 1, 0, 1, 1, 1, 1, 1, 0, 0, 1, 0, 0, 1, 1, 1, 1, 0, 1, 0, 0,\n",
       "        1, 1, 1, 1, 0, 1, 0, 0, 1, 0, 1, 0, 0, 1, 1, 1, 0, 0, 1, 0, 0, 0,\n",
       "        1, 1, 1, 0, 1, 1, 0, 0, 1, 1, 1, 0, 0, 1, 1, 1, 1, 0, 1, 1, 0, 1,\n",
       "        1, 1, 1, 1, 1, 1, 1, 0, 0, 0, 1, 0, 0, 1, 1, 1, 0, 0, 1, 0, 1, 0,\n",
       "        0, 1, 0, 0, 1, 1, 0, 1, 1, 0, 1, 1, 1, 1, 0, 1, 1, 1, 1, 1, 1, 1,\n",
       "        1, 1, 0, 1, 1, 1, 1, 0, 0, 1, 0, 1, 1, 0, 0, 1, 1, 0, 0, 1, 1, 1,\n",
       "        1, 0, 1, 1, 0, 0, 0, 1, 0, 1, 0, 1, 1, 1, 0, 1, 1, 0, 0, 1, 0, 0,\n",
       "        0, 0, 1, 0, 0, 0, 1, 0, 1, 0, 1, 1, 0, 1, 0, 0, 0, 0, 1, 1, 0, 0,\n",
       "        1, 1, 1, 0, 1, 1, 1, 1, 1, 0, 0, 1, 1, 0, 1, 1, 0, 0, 1, 0, 1, 1,\n",
       "        1, 1, 0, 1, 1, 1, 1, 1, 0, 1, 0, 0, 0, 0, 0, 0, 0, 0, 0, 0, 0, 0,\n",
       "        0, 0, 1, 1, 1, 1, 1, 1, 0, 1, 0, 1, 1, 0, 1, 1, 0, 1, 0, 0, 1, 1,\n",
       "        1, 1, 1, 1, 1, 1, 1, 1, 1, 1, 1, 0, 1, 1, 0, 1, 0, 1, 1, 1, 1, 1,\n",
       "        1, 1, 1, 1, 1, 1, 1, 1, 1, 0, 1, 1, 1, 0, 1, 0, 1, 1, 1, 1, 0, 0,\n",
       "        0, 1, 1, 1, 1, 0, 1, 0, 1, 0, 1, 1, 1, 0, 1, 1, 1, 1, 1, 1, 1, 0,\n",
       "        0, 0, 1, 1, 1, 1, 1, 1, 1, 1, 1, 1, 1, 0, 0, 1, 0, 0, 0, 1, 0, 0,\n",
       "        1, 1, 1, 1, 1, 0, 1, 1, 1, 1, 1, 0, 1, 1, 1, 0, 1, 1, 0, 0, 1, 1,\n",
       "        1, 1, 1, 1, 0, 1, 1, 1, 1, 1, 1, 1, 0, 1, 1, 1, 1, 1, 0, 1, 1, 0,\n",
       "        1, 1, 1, 1, 1, 1, 1, 1, 1, 1, 1, 1, 0, 1, 0, 0, 1, 0, 1, 1, 1, 1,\n",
       "        1, 0, 1, 1, 0, 1, 0, 1, 1, 0, 1, 0, 1, 1, 1, 1, 1, 1, 1, 1, 0, 0,\n",
       "        1, 1, 1, 1, 1, 1, 0, 1, 1, 1, 1, 1, 1, 1, 1, 1, 1, 0, 1, 1, 1, 1,\n",
       "        1, 1, 1, 0, 1, 0, 1, 1, 0, 1, 1, 1, 1, 1, 0, 0, 1, 0, 1, 0, 1, 1,\n",
       "        1, 1, 1, 0, 1, 1, 0, 1, 0, 1, 0, 0, 1, 1, 1, 0, 1, 1, 1, 1, 1, 1,\n",
       "        1, 1, 1, 1, 1, 0, 1, 0, 0, 1, 1, 1, 1, 1, 1, 1, 1, 1, 1, 1, 1, 1,\n",
       "        1, 1, 1, 1, 1, 1, 1, 1, 1, 1, 1, 1, 0, 0, 0, 0, 0, 0, 1]),\n",
       " 'frame': None,\n",
       " 'target_names': array(['malignant', 'benign'], dtype='<U9'),\n",
       " 'DESCR': '.. _breast_cancer_dataset:\\n\\nBreast cancer wisconsin (diagnostic) dataset\\n--------------------------------------------\\n\\n**Data Set Characteristics:**\\n\\n    :Number of Instances: 569\\n\\n    :Number of Attributes: 30 numeric, predictive attributes and the class\\n\\n    :Attribute Information:\\n        - radius (mean of distances from center to points on the perimeter)\\n        - texture (standard deviation of gray-scale values)\\n        - perimeter\\n        - area\\n        - smoothness (local variation in radius lengths)\\n        - compactness (perimeter^2 / area - 1.0)\\n        - concavity (severity of concave portions of the contour)\\n        - concave points (number of concave portions of the contour)\\n        - symmetry\\n        - fractal dimension (\"coastline approximation\" - 1)\\n\\n        The mean, standard error, and \"worst\" or largest (mean of the three\\n        worst/largest values) of these features were computed for each image,\\n        resulting in 30 features.  For instance, field 0 is Mean Radius, field\\n        10 is Radius SE, field 20 is Worst Radius.\\n\\n        - class:\\n                - WDBC-Malignant\\n                - WDBC-Benign\\n\\n    :Summary Statistics:\\n\\n    ===================================== ====== ======\\n                                           Min    Max\\n    ===================================== ====== ======\\n    radius (mean):                        6.981  28.11\\n    texture (mean):                       9.71   39.28\\n    perimeter (mean):                     43.79  188.5\\n    area (mean):                          143.5  2501.0\\n    smoothness (mean):                    0.053  0.163\\n    compactness (mean):                   0.019  0.345\\n    concavity (mean):                     0.0    0.427\\n    concave points (mean):                0.0    0.201\\n    symmetry (mean):                      0.106  0.304\\n    fractal dimension (mean):             0.05   0.097\\n    radius (standard error):              0.112  2.873\\n    texture (standard error):             0.36   4.885\\n    perimeter (standard error):           0.757  21.98\\n    area (standard error):                6.802  542.2\\n    smoothness (standard error):          0.002  0.031\\n    compactness (standard error):         0.002  0.135\\n    concavity (standard error):           0.0    0.396\\n    concave points (standard error):      0.0    0.053\\n    symmetry (standard error):            0.008  0.079\\n    fractal dimension (standard error):   0.001  0.03\\n    radius (worst):                       7.93   36.04\\n    texture (worst):                      12.02  49.54\\n    perimeter (worst):                    50.41  251.2\\n    area (worst):                         185.2  4254.0\\n    smoothness (worst):                   0.071  0.223\\n    compactness (worst):                  0.027  1.058\\n    concavity (worst):                    0.0    1.252\\n    concave points (worst):               0.0    0.291\\n    symmetry (worst):                     0.156  0.664\\n    fractal dimension (worst):            0.055  0.208\\n    ===================================== ====== ======\\n\\n    :Missing Attribute Values: None\\n\\n    :Class Distribution: 212 - Malignant, 357 - Benign\\n\\n    :Creator:  Dr. William H. Wolberg, W. Nick Street, Olvi L. Mangasarian\\n\\n    :Donor: Nick Street\\n\\n    :Date: November, 1995\\n\\nThis is a copy of UCI ML Breast Cancer Wisconsin (Diagnostic) datasets.\\nhttps://goo.gl/U2Uwz2\\n\\nFeatures are computed from a digitized image of a fine needle\\naspirate (FNA) of a breast mass.  They describe\\ncharacteristics of the cell nuclei present in the image.\\n\\nSeparating plane described above was obtained using\\nMultisurface Method-Tree (MSM-T) [K. P. Bennett, \"Decision Tree\\nConstruction Via Linear Programming.\" Proceedings of the 4th\\nMidwest Artificial Intelligence and Cognitive Science Society,\\npp. 97-101, 1992], a classification method which uses linear\\nprogramming to construct a decision tree.  Relevant features\\nwere selected using an exhaustive search in the space of 1-4\\nfeatures and 1-3 separating planes.\\n\\nThe actual linear program used to obtain the separating plane\\nin the 3-dimensional space is that described in:\\n[K. P. Bennett and O. L. Mangasarian: \"Robust Linear\\nProgramming Discrimination of Two Linearly Inseparable Sets\",\\nOptimization Methods and Software 1, 1992, 23-34].\\n\\nThis database is also available through the UW CS ftp server:\\n\\nftp ftp.cs.wisc.edu\\ncd math-prog/cpo-dataset/machine-learn/WDBC/\\n\\n.. topic:: References\\n\\n   - W.N. Street, W.H. Wolberg and O.L. Mangasarian. Nuclear feature extraction \\n     for breast tumor diagnosis. IS&T/SPIE 1993 International Symposium on \\n     Electronic Imaging: Science and Technology, volume 1905, pages 861-870,\\n     San Jose, CA, 1993.\\n   - O.L. Mangasarian, W.N. Street and W.H. Wolberg. Breast cancer diagnosis and \\n     prognosis via linear programming. Operations Research, 43(4), pages 570-577, \\n     July-August 1995.\\n   - W.H. Wolberg, W.N. Street, and O.L. Mangasarian. Machine learning techniques\\n     to diagnose breast cancer from fine-needle aspirates. Cancer Letters 77 (1994) \\n     163-171.',\n",
       " 'feature_names': array(['mean radius', 'mean texture', 'mean perimeter', 'mean area',\n",
       "        'mean smoothness', 'mean compactness', 'mean concavity',\n",
       "        'mean concave points', 'mean symmetry', 'mean fractal dimension',\n",
       "        'radius error', 'texture error', 'perimeter error', 'area error',\n",
       "        'smoothness error', 'compactness error', 'concavity error',\n",
       "        'concave points error', 'symmetry error',\n",
       "        'fractal dimension error', 'worst radius', 'worst texture',\n",
       "        'worst perimeter', 'worst area', 'worst smoothness',\n",
       "        'worst compactness', 'worst concavity', 'worst concave points',\n",
       "        'worst symmetry', 'worst fractal dimension'], dtype='<U23'),\n",
       " 'filename': 'breast_cancer.csv',\n",
       " 'data_module': 'sklearn.datasets.data'}"
      ]
     },
     "execution_count": 3,
     "metadata": {},
     "output_type": "execute_result"
    }
   ],
   "source": [
    "load_breast_cancer()"
   ]
  },
  {
   "cell_type": "code",
   "execution_count": 4,
   "id": "dddd0808-c50d-4e25-90c6-d20805bde2d0",
   "metadata": {},
   "outputs": [],
   "source": [
    "X,y=load_breast_cancer(return_X_y=True)"
   ]
  },
  {
   "cell_type": "markdown",
   "id": "9044f332-dd88-457c-a902-9d116fe3276d",
   "metadata": {},
   "source": [
    "# Predictions without pre-processing before applying model to data"
   ]
  },
  {
   "cell_type": "code",
   "execution_count": 5,
   "id": "8df0425e-4a7c-4047-863e-27dcae3dd8ec",
   "metadata": {},
   "outputs": [],
   "source": [
    "from sklearn.neighbors import KNeighborsRegressor\n",
    "#u can use another model too\n",
    "from sklearn.linear_model import LinearRegression"
   ]
  },
  {
   "cell_type": "code",
   "execution_count": 6,
   "id": "afb51b47-2795-4472-ac48-237f00c07e1e",
   "metadata": {},
   "outputs": [],
   "source": [
    "#create model\n",
    "model = KNeighborsRegressor()"
   ]
  },
  {
   "cell_type": "code",
   "execution_count": 7,
   "id": "5862e2ee-a122-4ec4-b967-7f6899f39836",
   "metadata": {},
   "outputs": [
    {
     "data": {
      "text/html": [
       "<style>#sk-container-id-1 {color: black;background-color: white;}#sk-container-id-1 pre{padding: 0;}#sk-container-id-1 div.sk-toggleable {background-color: white;}#sk-container-id-1 label.sk-toggleable__label {cursor: pointer;display: block;width: 100%;margin-bottom: 0;padding: 0.3em;box-sizing: border-box;text-align: center;}#sk-container-id-1 label.sk-toggleable__label-arrow:before {content: \"▸\";float: left;margin-right: 0.25em;color: #696969;}#sk-container-id-1 label.sk-toggleable__label-arrow:hover:before {color: black;}#sk-container-id-1 div.sk-estimator:hover label.sk-toggleable__label-arrow:before {color: black;}#sk-container-id-1 div.sk-toggleable__content {max-height: 0;max-width: 0;overflow: hidden;text-align: left;background-color: #f0f8ff;}#sk-container-id-1 div.sk-toggleable__content pre {margin: 0.2em;color: black;border-radius: 0.25em;background-color: #f0f8ff;}#sk-container-id-1 input.sk-toggleable__control:checked~div.sk-toggleable__content {max-height: 200px;max-width: 100%;overflow: auto;}#sk-container-id-1 input.sk-toggleable__control:checked~label.sk-toggleable__label-arrow:before {content: \"▾\";}#sk-container-id-1 div.sk-estimator input.sk-toggleable__control:checked~label.sk-toggleable__label {background-color: #d4ebff;}#sk-container-id-1 div.sk-label input.sk-toggleable__control:checked~label.sk-toggleable__label {background-color: #d4ebff;}#sk-container-id-1 input.sk-hidden--visually {border: 0;clip: rect(1px 1px 1px 1px);clip: rect(1px, 1px, 1px, 1px);height: 1px;margin: -1px;overflow: hidden;padding: 0;position: absolute;width: 1px;}#sk-container-id-1 div.sk-estimator {font-family: monospace;background-color: #f0f8ff;border: 1px dotted black;border-radius: 0.25em;box-sizing: border-box;margin-bottom: 0.5em;}#sk-container-id-1 div.sk-estimator:hover {background-color: #d4ebff;}#sk-container-id-1 div.sk-parallel-item::after {content: \"\";width: 100%;border-bottom: 1px solid gray;flex-grow: 1;}#sk-container-id-1 div.sk-label:hover label.sk-toggleable__label {background-color: #d4ebff;}#sk-container-id-1 div.sk-serial::before {content: \"\";position: absolute;border-left: 1px solid gray;box-sizing: border-box;top: 0;bottom: 0;left: 50%;z-index: 0;}#sk-container-id-1 div.sk-serial {display: flex;flex-direction: column;align-items: center;background-color: white;padding-right: 0.2em;padding-left: 0.2em;position: relative;}#sk-container-id-1 div.sk-item {position: relative;z-index: 1;}#sk-container-id-1 div.sk-parallel {display: flex;align-items: stretch;justify-content: center;background-color: white;position: relative;}#sk-container-id-1 div.sk-item::before, #sk-container-id-1 div.sk-parallel-item::before {content: \"\";position: absolute;border-left: 1px solid gray;box-sizing: border-box;top: 0;bottom: 0;left: 50%;z-index: -1;}#sk-container-id-1 div.sk-parallel-item {display: flex;flex-direction: column;z-index: 1;position: relative;background-color: white;}#sk-container-id-1 div.sk-parallel-item:first-child::after {align-self: flex-end;width: 50%;}#sk-container-id-1 div.sk-parallel-item:last-child::after {align-self: flex-start;width: 50%;}#sk-container-id-1 div.sk-parallel-item:only-child::after {width: 0;}#sk-container-id-1 div.sk-dashed-wrapped {border: 1px dashed gray;margin: 0 0.4em 0.5em 0.4em;box-sizing: border-box;padding-bottom: 0.4em;background-color: white;}#sk-container-id-1 div.sk-label label {font-family: monospace;font-weight: bold;display: inline-block;line-height: 1.2em;}#sk-container-id-1 div.sk-label-container {text-align: center;}#sk-container-id-1 div.sk-container {/* jupyter's `normalize.less` sets `[hidden] { display: none; }` but bootstrap.min.css set `[hidden] { display: none !important; }` so we also need the `!important` here to be able to override the default hidden behavior on the sphinx rendered scikit-learn.org. See: https://github.com/scikit-learn/scikit-learn/issues/21755 */display: inline-block !important;position: relative;}#sk-container-id-1 div.sk-text-repr-fallback {display: none;}</style><div id=\"sk-container-id-1\" class=\"sk-top-container\"><div class=\"sk-text-repr-fallback\"><pre>KNeighborsRegressor()</pre><b>In a Jupyter environment, please rerun this cell to show the HTML representation or trust the notebook. <br />On GitHub, the HTML representation is unable to render, please try loading this page with nbviewer.org.</b></div><div class=\"sk-container\" hidden><div class=\"sk-item\"><div class=\"sk-estimator sk-toggleable\"><input class=\"sk-toggleable__control sk-hidden--visually\" id=\"sk-estimator-id-1\" type=\"checkbox\" checked><label for=\"sk-estimator-id-1\" class=\"sk-toggleable__label sk-toggleable__label-arrow\">KNeighborsRegressor</label><div class=\"sk-toggleable__content\"><pre>KNeighborsRegressor()</pre></div></div></div></div></div>"
      ],
      "text/plain": [
       "KNeighborsRegressor()"
      ]
     },
     "execution_count": 7,
     "metadata": {},
     "output_type": "execute_result"
    }
   ],
   "source": [
    "#Now the fit the model with x and y data\n",
    "model.fit(X,y)"
   ]
  },
  {
   "cell_type": "code",
   "execution_count": 8,
   "id": "4e4e6231-df4f-402d-99d1-1daaf9b08bda",
   "metadata": {},
   "outputs": [
    {
     "data": {
      "text/plain": [
       "array([0. , 0. , 0. , 0.8, 0. , 0. , 0. , 0. , 0.2, 0.4, 0. , 0. , 0. ,\n",
       "       0.6, 0.8, 0. , 0. , 0. , 0. , 1. , 1. , 1. , 0. , 0. , 0. , 0. ,\n",
       "       0.6, 0. , 0. , 0.2, 0. , 0. , 0. , 0. , 0. , 0. , 0.4, 1. , 0.6,\n",
       "       0.6, 0.2, 0.6, 0. , 0. , 0.2, 0. , 1. , 0.2, 1. , 1. , 1. , 1. ,\n",
       "       1. , 0. , 0. , 1. , 0. , 0. , 1. , 1. , 1. , 1. , 0. , 1. , 0. ,\n",
       "       0.4, 1. , 1. , 1. , 1. , 0. , 1. , 0. , 0.2, 1. , 0. , 1. , 0. ,\n",
       "       0. , 1. , 1. , 1. , 0. , 0. , 1. , 0. , 0.8, 0. , 1. , 0.8, 0.8,\n",
       "       0.8, 0.2, 1. , 0. , 0. , 1. , 1. , 1. , 0.6, 0. , 1. , 1. , 1. ,\n",
       "       1. , 0.2, 1. , 1. , 0. , 1. , 1. , 1. , 0.8, 1. , 1. , 0.8, 1. ,\n",
       "       0. , 0. , 0. , 1. , 0. , 0. , 1. , 1. , 1. , 0.4, 0. , 0.8, 0. ,\n",
       "       1. , 0. , 0. , 0.6, 0. , 0.8, 1. , 1. , 0. , 1. , 1. , 0. , 1. ,\n",
       "       0.8, 1. , 1. , 0.8, 1. , 1. , 1. , 1. , 1. , 1. , 1. , 1. , 1. ,\n",
       "       0. , 0.4, 1. , 1. , 1. , 0. , 0. , 1. , 0. , 1. , 1. , 0. , 0. ,\n",
       "       1. , 1. , 0. , 0. , 1. , 1. , 1. , 1. , 0.4, 1. , 1. , 0. , 0. ,\n",
       "       0. , 1. , 0.2, 1. , 0. , 1. , 1. , 1. , 0.8, 1. , 1. , 0. , 0.8,\n",
       "       1. , 0. , 0.2, 0. , 0. , 1. , 0. , 0. , 0. , 0.4, 0. , 1. , 0. ,\n",
       "       1. , 0.4, 0. , 1. , 0. , 0.4, 0.4, 0.6, 1. , 1. , 0. , 0. , 1. ,\n",
       "       1. , 1. , 0. , 1. , 0.8, 1. , 1. , 1. , 0.4, 0. , 1. , 1. , 0. ,\n",
       "       1. , 1. , 0. , 0. , 0.8, 0. , 1. , 1. , 1. , 1. , 0. , 1. , 1. ,\n",
       "       1. , 1. , 1. , 0. , 1. , 0. , 0. , 0. , 0.4, 0. , 0.2, 0. , 0. ,\n",
       "       0. , 0. , 0. , 0.2, 0. , 0. , 1. , 1. , 1. , 1. , 1. , 1. , 0. ,\n",
       "       1. , 0. , 1. , 1. , 0.2, 0.6, 1. , 0. , 1. , 0. , 0.2, 1. , 1. ,\n",
       "       1. , 1. , 1. , 1. , 0.8, 1. , 1. , 1. , 1. , 1. , 1. , 0.8, 0.4,\n",
       "       1. , 0. , 1. , 0. , 1. , 1. , 1. , 1. , 1. , 1. , 1. , 1. , 1. ,\n",
       "       1. , 1. , 1. , 1. , 1. , 0. , 1. , 1. , 1. , 0. , 1. , 0. , 1. ,\n",
       "       1. , 1. , 1. , 0. , 0.4, 0. , 1. , 1. , 1. , 1. , 0. , 1. , 0. ,\n",
       "       1. , 0. , 1. , 1. , 1. , 0. , 1. , 1. , 1. , 1. , 1. , 1. , 1. ,\n",
       "       0.2, 0. , 0. , 1. , 1. , 1. , 1. , 1. , 1. , 1. , 1. , 1. , 0.4,\n",
       "       1. , 0. , 0. , 1. , 0. , 0. , 0. , 0.8, 0. , 0. , 1. , 0.6, 1. ,\n",
       "       1. , 1. , 0.6, 1. , 1. , 1. , 1. , 1. , 0.8, 1. , 0.8, 1. , 0. ,\n",
       "       1. , 1. , 0. , 0. , 1. , 1. , 1. , 1. , 1. , 1. , 0. , 0.8, 1. ,\n",
       "       1. , 1. , 1. , 0.6, 0.8, 0. , 1. , 1. , 1. , 1. , 0.8, 0.2, 1. ,\n",
       "       1. , 0. , 1. , 1. , 1. , 0.8, 1. , 0.8, 1. , 1. , 1. , 0.8, 1. ,\n",
       "       1. , 0.8, 1. , 0. , 0. , 1. , 0.6, 1. , 0.8, 0.8, 1. , 1. , 0. ,\n",
       "       1. , 1. , 0. , 1. , 0. , 1. , 1. , 0. , 1. , 0. , 1. , 1. , 1. ,\n",
       "       1. , 1. , 1. , 1. , 1. , 0. , 0. , 0.8, 1. , 1. , 0.4, 1. , 1. ,\n",
       "       0. , 1. , 1. , 0.8, 0.6, 1. , 1. , 1. , 0.6, 1. , 1. , 0.4, 1. ,\n",
       "       0.4, 1. , 1. , 0.6, 1. , 1. , 0. , 1. , 0.2, 1. , 0.2, 0. , 1. ,\n",
       "       1. , 0.8, 1. , 1. , 0. , 0. , 0.8, 0. , 1. , 0. , 1. , 1. , 1. ,\n",
       "       1. , 0.6, 0.2, 1. , 0.8, 0.2, 1. , 0. , 1. , 0. , 0. , 0.6, 1. ,\n",
       "       1. , 0. , 1. , 1. , 1. , 1. , 0.8, 1. , 1. , 1. , 1. , 1. , 0.6,\n",
       "       0. , 1. , 0. , 0.8, 1. , 1. , 1. , 1. , 0.8, 1. , 1. , 0.8, 0.8,\n",
       "       1. , 1. , 1. , 0.6, 1. , 1. , 1. , 1. , 1. , 1. , 1. , 1. , 0.8,\n",
       "       1. , 1. , 1. , 0.4, 0. , 0. , 0. , 0. , 0. , 1. ])"
      ]
     },
     "execution_count": 8,
     "metadata": {},
     "output_type": "execute_result"
    }
   ],
   "source": [
    "# Predict X\n",
    "model.predict(X)"
   ]
  },
  {
   "cell_type": "code",
   "execution_count": 9,
   "id": "460f950c-492a-4d77-b976-0f1ceeb8802a",
   "metadata": {},
   "outputs": [],
   "source": [
    "model = LinearRegression()"
   ]
  },
  {
   "cell_type": "code",
   "execution_count": 10,
   "id": "c7c24c7c-890d-46a4-8259-2f630eeee990",
   "metadata": {},
   "outputs": [
    {
     "data": {
      "text/html": [
       "<style>#sk-container-id-2 {color: black;background-color: white;}#sk-container-id-2 pre{padding: 0;}#sk-container-id-2 div.sk-toggleable {background-color: white;}#sk-container-id-2 label.sk-toggleable__label {cursor: pointer;display: block;width: 100%;margin-bottom: 0;padding: 0.3em;box-sizing: border-box;text-align: center;}#sk-container-id-2 label.sk-toggleable__label-arrow:before {content: \"▸\";float: left;margin-right: 0.25em;color: #696969;}#sk-container-id-2 label.sk-toggleable__label-arrow:hover:before {color: black;}#sk-container-id-2 div.sk-estimator:hover label.sk-toggleable__label-arrow:before {color: black;}#sk-container-id-2 div.sk-toggleable__content {max-height: 0;max-width: 0;overflow: hidden;text-align: left;background-color: #f0f8ff;}#sk-container-id-2 div.sk-toggleable__content pre {margin: 0.2em;color: black;border-radius: 0.25em;background-color: #f0f8ff;}#sk-container-id-2 input.sk-toggleable__control:checked~div.sk-toggleable__content {max-height: 200px;max-width: 100%;overflow: auto;}#sk-container-id-2 input.sk-toggleable__control:checked~label.sk-toggleable__label-arrow:before {content: \"▾\";}#sk-container-id-2 div.sk-estimator input.sk-toggleable__control:checked~label.sk-toggleable__label {background-color: #d4ebff;}#sk-container-id-2 div.sk-label input.sk-toggleable__control:checked~label.sk-toggleable__label {background-color: #d4ebff;}#sk-container-id-2 input.sk-hidden--visually {border: 0;clip: rect(1px 1px 1px 1px);clip: rect(1px, 1px, 1px, 1px);height: 1px;margin: -1px;overflow: hidden;padding: 0;position: absolute;width: 1px;}#sk-container-id-2 div.sk-estimator {font-family: monospace;background-color: #f0f8ff;border: 1px dotted black;border-radius: 0.25em;box-sizing: border-box;margin-bottom: 0.5em;}#sk-container-id-2 div.sk-estimator:hover {background-color: #d4ebff;}#sk-container-id-2 div.sk-parallel-item::after {content: \"\";width: 100%;border-bottom: 1px solid gray;flex-grow: 1;}#sk-container-id-2 div.sk-label:hover label.sk-toggleable__label {background-color: #d4ebff;}#sk-container-id-2 div.sk-serial::before {content: \"\";position: absolute;border-left: 1px solid gray;box-sizing: border-box;top: 0;bottom: 0;left: 50%;z-index: 0;}#sk-container-id-2 div.sk-serial {display: flex;flex-direction: column;align-items: center;background-color: white;padding-right: 0.2em;padding-left: 0.2em;position: relative;}#sk-container-id-2 div.sk-item {position: relative;z-index: 1;}#sk-container-id-2 div.sk-parallel {display: flex;align-items: stretch;justify-content: center;background-color: white;position: relative;}#sk-container-id-2 div.sk-item::before, #sk-container-id-2 div.sk-parallel-item::before {content: \"\";position: absolute;border-left: 1px solid gray;box-sizing: border-box;top: 0;bottom: 0;left: 50%;z-index: -1;}#sk-container-id-2 div.sk-parallel-item {display: flex;flex-direction: column;z-index: 1;position: relative;background-color: white;}#sk-container-id-2 div.sk-parallel-item:first-child::after {align-self: flex-end;width: 50%;}#sk-container-id-2 div.sk-parallel-item:last-child::after {align-self: flex-start;width: 50%;}#sk-container-id-2 div.sk-parallel-item:only-child::after {width: 0;}#sk-container-id-2 div.sk-dashed-wrapped {border: 1px dashed gray;margin: 0 0.4em 0.5em 0.4em;box-sizing: border-box;padding-bottom: 0.4em;background-color: white;}#sk-container-id-2 div.sk-label label {font-family: monospace;font-weight: bold;display: inline-block;line-height: 1.2em;}#sk-container-id-2 div.sk-label-container {text-align: center;}#sk-container-id-2 div.sk-container {/* jupyter's `normalize.less` sets `[hidden] { display: none; }` but bootstrap.min.css set `[hidden] { display: none !important; }` so we also need the `!important` here to be able to override the default hidden behavior on the sphinx rendered scikit-learn.org. See: https://github.com/scikit-learn/scikit-learn/issues/21755 */display: inline-block !important;position: relative;}#sk-container-id-2 div.sk-text-repr-fallback {display: none;}</style><div id=\"sk-container-id-2\" class=\"sk-top-container\"><div class=\"sk-text-repr-fallback\"><pre>LinearRegression()</pre><b>In a Jupyter environment, please rerun this cell to show the HTML representation or trust the notebook. <br />On GitHub, the HTML representation is unable to render, please try loading this page with nbviewer.org.</b></div><div class=\"sk-container\" hidden><div class=\"sk-item\"><div class=\"sk-estimator sk-toggleable\"><input class=\"sk-toggleable__control sk-hidden--visually\" id=\"sk-estimator-id-2\" type=\"checkbox\" checked><label for=\"sk-estimator-id-2\" class=\"sk-toggleable__label sk-toggleable__label-arrow\">LinearRegression</label><div class=\"sk-toggleable__content\"><pre>LinearRegression()</pre></div></div></div></div></div>"
      ],
      "text/plain": [
       "LinearRegression()"
      ]
     },
     "execution_count": 10,
     "metadata": {},
     "output_type": "execute_result"
    }
   ],
   "source": [
    "model.fit(X,y)"
   ]
  },
  {
   "cell_type": "code",
   "execution_count": 11,
   "id": "78ec283f-49da-4b69-b0cb-268e2a4b3d37",
   "metadata": {},
   "outputs": [
    {
     "data": {
      "text/plain": [
       "array([-4.55748245e-02,  1.57869645e-01, -1.31319863e-01, -1.92288185e-01,\n",
       "        1.65553403e-01,  3.01137442e-01,  1.50292603e-01,  3.68008882e-01,\n",
       "        3.01789947e-01, -1.54652777e-01,  4.52284915e-01,  1.41528218e-01,\n",
       "        3.58799952e-01,  5.42350255e-01,  3.74158760e-01,  6.59600231e-03,\n",
       "        2.00106593e-01, -1.59903421e-02, -6.86648217e-02,  6.72592533e-01,\n",
       "        1.02825052e+00,  1.12677621e+00,  2.64794750e-01,  1.48388507e-02,\n",
       "       -1.56499389e-01, -1.81494969e-01,  7.15639403e-02,  1.05751382e-01,\n",
       "        4.69024100e-03,  4.64984176e-01, -6.42440721e-02,  8.49150658e-02,\n",
       "       -1.09544105e-01,  4.72282004e-03,  8.30995041e-02,  1.06438245e-01,\n",
       "        4.10004938e-01,  1.00702985e+00,  7.26754362e-01,  4.37172612e-01,\n",
       "        6.74438947e-01,  5.68674205e-01, -2.03827234e-01,  3.31302150e-01,\n",
       "        3.41861785e-01, -7.01785970e-02,  1.29121705e+00,  1.86405824e-01,\n",
       "        8.88890773e-01,  6.88486808e-01,  9.57028129e-01,  9.28752105e-01,\n",
       "        9.27637316e-01,  3.31911333e-01,  4.43012282e-01,  8.26249735e-01,\n",
       "       -7.79676100e-03,  2.26257395e-01,  9.56849666e-01,  1.15633877e+00,\n",
       "        1.10695565e+00,  1.15247701e+00,  1.31153122e-01,  1.10223258e+00,\n",
       "        1.17180183e-01,  3.35799807e-01,  9.81547742e-01,  8.99716763e-01,\n",
       "        8.66577157e-01,  9.37842567e-01,  1.28174354e-01,  1.25056964e+00,\n",
       "       -1.21806742e-01,  6.06225540e-01,  8.75687056e-01,  1.85995074e-01,\n",
       "        8.62150281e-01,  2.22113385e-01, -1.92589584e-01,  9.32668165e-01,\n",
       "        8.02476476e-01,  3.97588732e-01, -3.36491612e-01,  2.02002982e-01,\n",
       "        8.15384178e-01, -4.44434206e-02,  5.05411257e-01, -2.85456559e-01,\n",
       "        6.56987469e-01,  6.63827178e-01,  7.73198492e-01,  4.97307026e-01,\n",
       "        7.26939476e-01,  8.48471232e-01,  2.44394940e-01, -1.75354297e-04,\n",
       "        9.70957051e-01,  1.02444290e+00,  8.99174847e-01,  4.79604325e-01,\n",
       "        4.03620687e-01,  1.42299516e+00,  8.43600154e-01,  1.00940557e+00,\n",
       "        1.13516785e+00,  1.71121358e-01,  6.88503367e-01,  9.88496693e-01,\n",
       "       -4.75793464e-01,  6.87310257e-01,  9.52651350e-01,  7.15977232e-01,\n",
       "        8.47070052e-01,  1.12744269e+00,  1.08407484e+00,  8.38495673e-01,\n",
       "        1.38936546e+00,  1.33711346e-01, -1.39992639e-01,  2.15624114e-01,\n",
       "        9.43375524e-01,  1.14643165e-01, -1.56159314e-01,  8.03122611e-01,\n",
       "        9.44080629e-01,  9.40882485e-01,  3.93177304e-01,  3.43417460e-01,\n",
       "        7.30250481e-01,  3.70678249e-02,  9.47302903e-01,  2.56776538e-01,\n",
       "        4.10449339e-01,  6.24450269e-01,  1.47606629e-01,  6.10443985e-01,\n",
       "        9.15274809e-01,  1.05427778e+00, -4.78720883e-02,  1.07645164e+00,\n",
       "        1.26955644e+00,  3.64748105e-01,  1.01774505e+00,  8.21827523e-01,\n",
       "        1.17474226e+00,  9.92944965e-01,  3.82226136e-01,  7.60050189e-01,\n",
       "        6.92648933e-01,  9.61058352e-01,  8.27986017e-01,  8.76895369e-01,\n",
       "        1.05751666e+00,  1.03681921e+00,  5.94676555e-01,  8.32115993e-01,\n",
       "        2.76012517e-01,  7.53083919e-01,  1.00574780e+00,  1.05233345e+00,\n",
       "        8.55460110e-01,  1.70221269e-01, -2.09416938e-01,  7.95904582e-01,\n",
       "       -7.64138127e-02,  8.98563149e-01,  1.19748580e+00,  3.22067716e-01,\n",
       "       -7.75624542e-02,  8.78804118e-01,  8.94165583e-01,  3.53148589e-01,\n",
       "        2.24633308e-01,  1.02180524e+00,  1.18645327e+00,  1.34233033e+00,\n",
       "        9.51074249e-01,  3.12168305e-01,  1.03289683e+00,  1.01140857e+00,\n",
       "       -2.71499652e-01, -2.15357874e-01,  2.58069307e-01,  1.12507327e+00,\n",
       "        5.53220646e-01,  9.04560518e-01,  4.01501123e-01,  8.71380127e-01,\n",
       "        9.76707162e-01,  1.10765225e+00,  4.41524675e-01,  8.40461857e-01,\n",
       "        1.40077105e+00,  2.09757232e-01,  6.24941163e-01,  9.11507784e-01,\n",
       "        9.87985315e-02,  5.89592193e-01,  2.24017817e-01,  1.58726956e-01,\n",
       "        6.43836899e-01,  2.81523359e-01, -2.61772584e-01, -1.20838300e-01,\n",
       "        6.21251996e-01,  4.73814466e-01,  1.12982012e+00,  4.04762039e-01,\n",
       "        6.51173189e-01,  7.15644250e-01,  1.25836715e-01,  9.78104000e-01,\n",
       "       -6.23988698e-02,  3.12094215e-01,  2.77013249e-02,  5.46840629e-01,\n",
       "        8.28113057e-01,  1.10976735e+00, -2.06327517e-02, -4.10085748e-03,\n",
       "        9.24689159e-01,  8.89215939e-01,  1.05919344e+00,  6.26209935e-02,\n",
       "        7.40982885e-01,  6.42402407e-01,  1.18516283e+00,  8.11338296e-01,\n",
       "        6.22387094e-01,  3.27083185e-01,  1.59697073e-01,  1.05703930e+00,\n",
       "        8.61109801e-01,  7.61619647e-02,  9.51355441e-01,  7.82356972e-01,\n",
       "       -1.72462373e-01,  1.97833137e-01,  6.29926793e-01, -2.44261396e-01,\n",
       "        8.14556807e-01,  1.08630582e+00,  6.88424472e-01,  8.76338271e-01,\n",
       "        1.31726579e-01,  6.80043277e-01,  8.98053350e-01,  7.60185307e-01,\n",
       "        8.05176144e-01,  9.50520335e-01, -9.43032307e-02,  9.14000702e-01,\n",
       "       -3.36502542e-01,  2.75484609e-01, -6.26636240e-02,  5.82910864e-01,\n",
       "        6.09658242e-03,  1.21990104e-01, -7.75026673e-03, -1.03064588e-01,\n",
       "        1.32948079e-03,  5.61264044e-01,  3.11047236e-01,  6.31172513e-01,\n",
       "        1.45880451e-01,  5.60575781e-02,  9.85164180e-01,  9.23152677e-01,\n",
       "        8.92715230e-01,  1.11301435e+00,  1.04759298e+00,  1.03278135e+00,\n",
       "        3.39911932e-03,  9.40696048e-01,  2.95659429e-01,  6.64023732e-01,\n",
       "        1.10829900e+00,  4.24967089e-01,  8.77177485e-01,  8.34785976e-01,\n",
       "       -1.80623849e-01,  6.87782460e-01, -5.14386144e-02,  3.64263164e-01,\n",
       "        1.00282771e+00,  1.06027830e+00,  8.55712661e-01,  1.09234708e+00,\n",
       "        7.95388756e-01,  8.85028344e-01,  8.35638704e-01,  6.27654998e-01,\n",
       "        7.06401001e-01,  8.37961794e-01,  1.15277245e+00,  1.02594846e+00,\n",
       "        1.30128290e+00,  8.22949350e-01,  8.00342754e-01,  1.09391552e+00,\n",
       "       -1.94288231e-01,  9.74634343e-01, -7.60150202e-02,  1.12189616e+00,\n",
       "        1.07381776e+00,  9.51635483e-01,  1.03802798e+00,  1.21738183e+00,\n",
       "        1.10743721e+00,  1.00961680e+00,  9.48135055e-01,  8.19698926e-01,\n",
       "        9.37847772e-01,  1.20781035e+00,  1.09170369e+00,  1.15425554e+00,\n",
       "        1.16900950e+00,  2.55926949e-01,  1.05843730e+00,  1.02572390e+00,\n",
       "        9.32032033e-01,  2.95913645e-01,  9.04246815e-01, -4.16557861e-01,\n",
       "        9.74317768e-01,  1.01375959e+00,  9.01096837e-01,  1.08823657e+00,\n",
       "        2.25229291e-01,  3.66721217e-01,  3.55218357e-01,  8.30426949e-01,\n",
       "        9.61554649e-01,  1.06364100e+00,  9.13753331e-01,  2.55523344e-02,\n",
       "        1.11323878e+00, -2.55571951e-03,  1.04544116e+00, -2.00633616e-01,\n",
       "        6.49637752e-01,  1.02408302e+00,  9.50542012e-01, -1.35394975e-01,\n",
       "        8.37909930e-01,  1.02535613e+00,  8.75249083e-01,  5.90237813e-01,\n",
       "        8.90537316e-01,  1.19288646e+00,  9.30817344e-01,  1.83445852e-01,\n",
       "       -2.80955576e-01,  2.77186628e-02,  1.13440728e+00,  9.05022024e-01,\n",
       "        7.65093958e-01,  8.83682395e-01,  1.11292925e+00,  8.93551398e-01,\n",
       "        1.03273364e+00,  9.12966006e-01,  9.46581425e-01,  6.36531836e-01,\n",
       "        9.26336445e-01,  2.21381264e-01, -2.03127023e-01,  7.80305728e-01,\n",
       "        3.13569039e-01, -1.22134368e-01, -4.39821644e-02,  9.37810130e-01,\n",
       "        2.28191858e-01,  3.54051939e-02,  8.88871176e-01,  8.12469075e-01,\n",
       "        1.07513751e+00,  8.23644238e-01,  8.06818760e-01,  3.30012965e-01,\n",
       "        7.52853516e-01,  1.07946948e+00,  9.92536705e-01,  8.77259586e-01,\n",
       "        1.01835771e+00,  4.43675811e-01,  9.66139686e-01,  9.75284262e-01,\n",
       "        1.10634807e+00,  5.32912378e-02,  1.17006014e+00,  1.11683768e+00,\n",
       "       -8.67343387e-02, -2.34930184e-01,  9.04431454e-01,  8.72704737e-01,\n",
       "        7.41600277e-01,  1.01700470e+00,  9.84791906e-01,  9.19826813e-01,\n",
       "       -2.62259195e-05,  9.25528921e-01,  9.96757020e-01,  9.99839296e-01,\n",
       "        9.91634348e-01,  8.49480114e-01,  7.20925959e-01,  8.66517350e-01,\n",
       "        1.80926395e-01,  7.31615957e-01,  7.64268008e-01,  9.75776534e-01,\n",
       "        1.25261039e+00,  5.52500714e-01,  4.32462608e-01,  8.53769537e-01,\n",
       "        8.04384346e-01, -1.21733092e-01,  8.80380171e-01,  9.60108149e-01,\n",
       "        9.04118299e-01,  7.30424534e-01,  9.85008517e-01,  7.24621223e-01,\n",
       "        8.55323779e-01,  1.08892242e+00,  9.54568571e-01,  7.77039949e-01,\n",
       "        1.14602499e+00,  9.90942208e-01,  3.03292505e-01,  1.10315140e+00,\n",
       "       -8.40665804e-04,  6.58021651e-02,  7.81776956e-01,  2.59937387e-01,\n",
       "        8.34696924e-01,  7.19231344e-01,  8.08251197e-01,  9.61705309e-01,\n",
       "        8.25133296e-01,  1.65189452e-01,  1.03533000e+00,  1.12791874e+00,\n",
       "        5.18904342e-01,  7.21846700e-01, -1.00436045e-02,  7.80339390e-01,\n",
       "        6.82221076e-01, -2.69666528e-02,  9.71939816e-01,  1.29269189e-01,\n",
       "        7.99871948e-01,  7.25226700e-01,  8.09900844e-01,  6.50698860e-01,\n",
       "        7.22579507e-01,  8.05472055e-01,  8.56863929e-01,  1.04635102e+00,\n",
       "       -3.55000591e-02, -4.59952332e-03,  8.15771351e-01,  8.81450394e-01,\n",
       "        7.82580699e-01,  6.41536917e-01,  6.94648953e-01,  9.77021652e-01,\n",
       "        2.55950015e-02,  6.50178432e-01,  9.44048922e-01,  7.41410930e-01,\n",
       "        7.31006419e-01,  8.65499090e-01,  1.08905756e+00,  8.86738908e-01,\n",
       "        7.48126129e-01,  9.49092523e-01,  1.03633619e+00,  4.33682676e-01,\n",
       "        1.01857012e+00,  7.13014836e-01,  8.22066969e-01,  9.08264319e-01,\n",
       "        7.11560575e-01,  8.29015850e-01,  7.82191967e-01, -1.47262148e-01,\n",
       "        8.30265279e-01,  4.84641907e-01,  7.61997761e-01,  7.39811313e-01,\n",
       "        2.35848403e-01,  1.00990589e+00,  8.29731150e-01,  7.19707739e-01,\n",
       "        7.09966644e-01,  8.77343995e-01,  1.19316069e-01,  1.57028173e-02,\n",
       "        8.31098230e-01,  2.49343177e-01,  8.62119914e-01, -1.57285214e-01,\n",
       "        1.16715183e+00,  9.69460252e-01,  9.46383133e-01,  8.52302394e-01,\n",
       "        6.46705375e-01,  2.18009697e-01,  9.61639692e-01,  8.88353299e-01,\n",
       "        2.43092773e-01,  7.44344762e-01,  6.27986514e-01,  9.30151875e-01,\n",
       "        1.60410834e-01,  1.06940678e-01,  9.05557129e-01,  8.56475416e-01,\n",
       "        9.36583703e-01, -1.10291957e-01,  1.13416498e+00,  7.09479877e-01,\n",
       "        1.04414557e+00,  1.15512953e+00,  7.55972800e-01,  9.39462305e-01,\n",
       "        6.95315846e-01,  9.72946029e-01,  7.84619146e-01,  8.46197223e-01,\n",
       "        8.75563365e-01,  1.64894195e-01,  1.06418274e+00,  7.46443309e-02,\n",
       "        5.73070280e-01,  7.37898691e-01,  1.01416128e+00,  1.17131516e+00,\n",
       "        1.11586477e+00,  4.98123496e-01,  6.21454904e-01,  7.85765586e-01,\n",
       "        9.51136358e-01,  7.68591954e-01,  1.15115923e+00,  1.02216715e+00,\n",
       "        1.04715367e+00,  7.89442065e-01,  1.11593916e+00,  1.01633646e+00,\n",
       "        7.14314427e-01,  1.13288870e+00,  7.46364949e-01,  8.76269939e-01,\n",
       "        1.20056811e+00,  1.02268315e+00,  9.33061556e-01,  8.22056499e-01,\n",
       "        6.94168412e-01,  1.10437137e+00, -2.09984551e-01, -1.43498140e-01,\n",
       "       -2.88849302e-01,  3.44689723e-02,  4.31414262e-01, -5.63027328e-01,\n",
       "        1.18027556e+00])"
      ]
     },
     "execution_count": 11,
     "metadata": {},
     "output_type": "execute_result"
    }
   ],
   "source": [
    "#Predicted X values are different in LinearRgression and KNeighborsRegressor\n",
    "model.predict(X)"
   ]
  },
  {
   "cell_type": "code",
   "execution_count": 12,
   "id": "0a7081f7-9322-4904-abe5-7ea056c663b3",
   "metadata": {},
   "outputs": [
    {
     "data": {
      "text/plain": [
       "<matplotlib.collections.PathCollection at 0x23374ab3b90>"
      ]
     },
     "execution_count": 12,
     "metadata": {},
     "output_type": "execute_result"
    },
    {
     "data": {
      "image/png": "[encoded data removed]",
      "text/plain": [
       "<Figure size 640x480 with 1 Axes>"
      ]
     },
     "metadata": {},
     "output_type": "display_data"
    }
   ],
   "source": [
    "#Now we will plot this predictions\n",
    "import matplotlib.pylab as plt\n",
    "mod=KNeighborsRegressor().fit(X,y)\n",
    "pred=mod.predict(X)\n",
    "plt.scatter(pred,y)"
   ]
  },
  {
   "cell_type": "markdown",
   "id": "febf3a56-09b5-4c96-b4ce-070ade49f2c1",
   "metadata": {},
   "source": [
    "# Predictions by pre-processing the data before sending it to the model "
   ]
  },
  {
   "cell_type": "code",
   "execution_count": 13,
   "id": "afdad09f-42f4-48cf-8b18-3b1f165e7348",
   "metadata": {},
   "outputs": [],
   "source": [
    "from sklearn.neighbors import KNeighborsRegressor\n",
    "#you can use another model too\n",
    "from sklearn.linear_model import LinearRegression\n",
    "# i should use a library which can do pre-processing with scaler\n",
    "from sklearn.preprocessing import StandardScaler\n",
    "#Pipeline object is used to change the processing steps\n",
    "from sklearn.pipeline import Pipeline"
   ]
  },
  {
   "cell_type": "code",
   "execution_count": 14,
   "id": "794560ef-605c-4519-8aa5-276f43e21a7d",
   "metadata": {},
   "outputs": [],
   "source": [
    "model=KNeighborsRegressor().fit(X,y)\n",
    "\n",
    "#use the pipeline object it needs some list of tuples(name, step)\n",
    "pipe=Pipeline([\n",
    "    (\"scale\",StandardScaler()), #Pipeline First does the scaling using StandardScaler object\n",
    "    (\"model\",KNeighborsRegressor()) #Pipeline calls the model KNeighborsRegressor object after scaling\n",
    "])"
   ]
  },
  {
   "cell_type": "code",
   "execution_count": 15,
   "id": "eba18de5-9cc0-4303-8a5f-a23ce9d68f97",
   "metadata": {},
   "outputs": [
    {
     "data": {
      "text/html": [
       "<style>#sk-container-id-3 {color: black;background-color: white;}#sk-container-id-3 pre{padding: 0;}#sk-container-id-3 div.sk-toggleable {background-color: white;}#sk-container-id-3 label.sk-toggleable__label {cursor: pointer;display: block;width: 100%;margin-bottom: 0;padding: 0.3em;box-sizing: border-box;text-align: center;}#sk-container-id-3 label.sk-toggleable__label-arrow:before {content: \"▸\";float: left;margin-right: 0.25em;color: #696969;}#sk-container-id-3 label.sk-toggleable__label-arrow:hover:before {color: black;}#sk-container-id-3 div.sk-estimator:hover label.sk-toggleable__label-arrow:before {color: black;}#sk-container-id-3 div.sk-toggleable__content {max-height: 0;max-width: 0;overflow: hidden;text-align: left;background-color: #f0f8ff;}#sk-container-id-3 div.sk-toggleable__content pre {margin: 0.2em;color: black;border-radius: 0.25em;background-color: #f0f8ff;}#sk-container-id-3 input.sk-toggleable__control:checked~div.sk-toggleable__content {max-height: 200px;max-width: 100%;overflow: auto;}#sk-container-id-3 input.sk-toggleable__control:checked~label.sk-toggleable__label-arrow:before {content: \"▾\";}#sk-container-id-3 div.sk-estimator input.sk-toggleable__control:checked~label.sk-toggleable__label {background-color: #d4ebff;}#sk-container-id-3 div.sk-label input.sk-toggleable__control:checked~label.sk-toggleable__label {background-color: #d4ebff;}#sk-container-id-3 input.sk-hidden--visually {border: 0;clip: rect(1px 1px 1px 1px);clip: rect(1px, 1px, 1px, 1px);height: 1px;margin: -1px;overflow: hidden;padding: 0;position: absolute;width: 1px;}#sk-container-id-3 div.sk-estimator {font-family: monospace;background-color: #f0f8ff;border: 1px dotted black;border-radius: 0.25em;box-sizing: border-box;margin-bottom: 0.5em;}#sk-container-id-3 div.sk-estimator:hover {background-color: #d4ebff;}#sk-container-id-3 div.sk-parallel-item::after {content: \"\";width: 100%;border-bottom: 1px solid gray;flex-grow: 1;}#sk-container-id-3 div.sk-label:hover label.sk-toggleable__label {background-color: #d4ebff;}#sk-container-id-3 div.sk-serial::before {content: \"\";position: absolute;border-left: 1px solid gray;box-sizing: border-box;top: 0;bottom: 0;left: 50%;z-index: 0;}#sk-container-id-3 div.sk-serial {display: flex;flex-direction: column;align-items: center;background-color: white;padding-right: 0.2em;padding-left: 0.2em;position: relative;}#sk-container-id-3 div.sk-item {position: relative;z-index: 1;}#sk-container-id-3 div.sk-parallel {display: flex;align-items: stretch;justify-content: center;background-color: white;position: relative;}#sk-container-id-3 div.sk-item::before, #sk-container-id-3 div.sk-parallel-item::before {content: \"\";position: absolute;border-left: 1px solid gray;box-sizing: border-box;top: 0;bottom: 0;left: 50%;z-index: -1;}#sk-container-id-3 div.sk-parallel-item {display: flex;flex-direction: column;z-index: 1;position: relative;background-color: white;}#sk-container-id-3 div.sk-parallel-item:first-child::after {align-self: flex-end;width: 50%;}#sk-container-id-3 div.sk-parallel-item:last-child::after {align-self: flex-start;width: 50%;}#sk-container-id-3 div.sk-parallel-item:only-child::after {width: 0;}#sk-container-id-3 div.sk-dashed-wrapped {border: 1px dashed gray;margin: 0 0.4em 0.5em 0.4em;box-sizing: border-box;padding-bottom: 0.4em;background-color: white;}#sk-container-id-3 div.sk-label label {font-family: monospace;font-weight: bold;display: inline-block;line-height: 1.2em;}#sk-container-id-3 div.sk-label-container {text-align: center;}#sk-container-id-3 div.sk-container {/* jupyter's `normalize.less` sets `[hidden] { display: none; }` but bootstrap.min.css set `[hidden] { display: none !important; }` so we also need the `!important` here to be able to override the default hidden behavior on the sphinx rendered scikit-learn.org. See: https://github.com/scikit-learn/scikit-learn/issues/21755 */display: inline-block !important;position: relative;}#sk-container-id-3 div.sk-text-repr-fallback {display: none;}</style><div id=\"sk-container-id-3\" class=\"sk-top-container\"><div class=\"sk-text-repr-fallback\"><pre>Pipeline(steps=[(&#x27;scale&#x27;, StandardScaler()), (&#x27;model&#x27;, KNeighborsRegressor())])</pre><b>In a Jupyter environment, please rerun this cell to show the HTML representation or trust the notebook. <br />On GitHub, the HTML representation is unable to render, please try loading this page with nbviewer.org.</b></div><div class=\"sk-container\" hidden><div class=\"sk-item sk-dashed-wrapped\"><div class=\"sk-label-container\"><div class=\"sk-label sk-toggleable\"><input class=\"sk-toggleable__control sk-hidden--visually\" id=\"sk-estimator-id-3\" type=\"checkbox\" ><label for=\"sk-estimator-id-3\" class=\"sk-toggleable__label sk-toggleable__label-arrow\">Pipeline</label><div class=\"sk-toggleable__content\"><pre>Pipeline(steps=[(&#x27;scale&#x27;, StandardScaler()), (&#x27;model&#x27;, KNeighborsRegressor())])</pre></div></div></div><div class=\"sk-serial\"><div class=\"sk-item\"><div class=\"sk-estimator sk-toggleable\"><input class=\"sk-toggleable__control sk-hidden--visually\" id=\"sk-estimator-id-4\" type=\"checkbox\" ><label for=\"sk-estimator-id-4\" class=\"sk-toggleable__label sk-toggleable__label-arrow\">StandardScaler</label><div class=\"sk-toggleable__content\"><pre>StandardScaler()</pre></div></div></div><div class=\"sk-item\"><div class=\"sk-estimator sk-toggleable\"><input class=\"sk-toggleable__control sk-hidden--visually\" id=\"sk-estimator-id-5\" type=\"checkbox\" ><label for=\"sk-estimator-id-5\" class=\"sk-toggleable__label sk-toggleable__label-arrow\">KNeighborsRegressor</label><div class=\"sk-toggleable__content\"><pre>KNeighborsRegressor()</pre></div></div></div></div></div></div></div>"
      ],
      "text/plain": [
       "Pipeline(steps=[('scale', StandardScaler()), ('model', KNeighborsRegressor())])"
      ]
     },
     "execution_count": 15,
     "metadata": {},
     "output_type": "execute_result"
    }
   ],
   "source": [
    "pipe.fit(X,y)"
   ]
  },
  {
   "cell_type": "code",
   "execution_count": 16,
   "id": "da009b8e-6a29-4f61-8530-3211154c49c8",
   "metadata": {},
   "outputs": [
    {
     "data": {
      "text/plain": [
       "array([0. , 0. , 0. , 0. , 0. , 0. , 0. , 0. , 0. , 0. , 0. , 0. , 0. ,\n",
       "       0. , 0. , 0. , 0. , 0. , 0. , 1. , 1. , 1. , 0. , 0. , 0. , 0. ,\n",
       "       0. , 0. , 0. , 0. , 0. , 0. , 0. , 0. , 0. , 0. , 0.2, 1. , 0.6,\n",
       "       0.2, 0.6, 0.2, 0. , 0. , 0.2, 0. , 1. , 0. , 1. , 0.8, 1. , 1. ,\n",
       "       1. , 0. , 0. , 1. , 0. , 0. , 1. , 1. , 1. , 1. , 0. , 1. , 0. ,\n",
       "       0. , 1. , 1. , 1. , 1. , 0. , 1. , 0. , 0.8, 1. , 0. , 1. , 0. ,\n",
       "       0. , 1. , 1. , 0.4, 0. , 0. , 1. , 0. , 0. , 0. , 1. , 0.8, 1. ,\n",
       "       0.4, 1. , 1. , 0. , 0. , 0.8, 1. , 1. , 0.6, 0.2, 1. , 1. , 1. ,\n",
       "       1. , 0. , 0.8, 1. , 0. , 0.8, 1. , 1. , 0.8, 1. , 1. , 1. , 1. ,\n",
       "       0. , 0. , 0. , 1. , 0. , 0. , 1. , 1. , 1. , 0. , 0. , 0.8, 0. ,\n",
       "       1. , 0. , 0. , 1. , 0. , 0.8, 0.8, 1. , 0. , 1. , 1. , 0. , 1. ,\n",
       "       1. , 1. , 1. , 0. , 1. , 0.8, 1. , 1. , 1. , 1. , 1. , 1. , 1. ,\n",
       "       0. , 0.8, 1. , 1. , 1. , 0. , 0. , 1. , 0. , 1. , 1. , 0. , 0. ,\n",
       "       1. , 1. , 0. , 0.2, 1. , 1. , 1. , 1. , 0. , 1. , 1. , 0. , 0. ,\n",
       "       0. , 1. , 0.2, 1. , 0. , 1. , 1. , 1. , 0. , 0.8, 1. , 0. , 0. ,\n",
       "       1. , 0.2, 0.2, 0. , 0. , 1. , 0. , 0. , 0. , 1. , 0.4, 1. , 0. ,\n",
       "       0.6, 1. , 0. , 1. , 0. , 0.6, 0.2, 0.2, 1. , 1. , 0. , 0. , 1. ,\n",
       "       1. , 1. , 0. , 1. , 1. , 1. , 1. , 0.8, 0. , 0. , 1. , 1. , 0. ,\n",
       "       1. , 0.8, 0. , 0. , 1. , 0. , 1. , 1. , 0.6, 1. , 0. , 1. , 1. ,\n",
       "       1. , 0.8, 1. , 0. , 1. , 0. , 0. , 0. , 0.8, 0. , 0. , 0. , 0. ,\n",
       "       0. , 0.2, 0. , 0.6, 0. , 0. , 1. , 1. , 1. , 1. , 1. , 1. , 0. ,\n",
       "       1. , 0. , 1. , 1. , 0.4, 1. , 1. , 0. , 1. , 0. , 0. , 1. , 1. ,\n",
       "       1. , 1. , 1. , 1. , 1. , 1. , 1. , 1. , 1. , 1. , 1. , 0.8, 1. ,\n",
       "       1. , 0. , 1. , 0. , 1. , 1. , 1. , 1. , 1. , 1. , 1. , 1. , 1. ,\n",
       "       1. , 1. , 1. , 1. , 1. , 0. , 1. , 1. , 1. , 0. , 1. , 0. , 1. ,\n",
       "       1. , 1. , 1. , 0. , 0.4, 0.2, 1. , 1. , 1. , 1. , 0. , 1. , 0. ,\n",
       "       1. , 0. , 0.8, 1. , 1. , 0. , 1. , 1. , 1. , 1. , 1. , 1. , 1. ,\n",
       "       0. , 0. , 0. , 1. , 1. , 1. , 1. , 1. , 1. , 1. , 1. , 1. , 0.8,\n",
       "       1. , 0. , 0. , 1. , 0. , 0. , 0. , 1. , 0. , 0. , 1. , 1. , 1. ,\n",
       "       1. , 1. , 0. , 1. , 1. , 1. , 1. , 1. , 0.4, 1. , 1. , 1. , 0. ,\n",
       "       1. , 1. , 0. , 0. , 1. , 1. , 1. , 1. , 1. , 1. , 0. , 1. , 1. ,\n",
       "       1. , 1. , 1. , 1. , 1. , 0. , 1. , 0.8, 1. , 1. , 1. , 0.8, 1. ,\n",
       "       1. , 0. , 1. , 1. , 1. , 0.8, 1. , 1. , 1. , 1. , 1. , 1. , 1. ,\n",
       "       1. , 0. , 1. , 0. , 0. , 1. , 0.2, 1. , 1. , 1. , 1. , 1. , 0. ,\n",
       "       1. , 1. , 0. , 1. , 0. , 1. , 0.8, 0. , 1. , 0. , 1. , 1. , 1. ,\n",
       "       1. , 1. , 1. , 1. , 1. , 0. , 0. , 1. , 1. , 1. , 1. , 1. , 1. ,\n",
       "       0. , 0.8, 1. , 1. , 1. , 1. , 1. , 1. , 0.8, 1. , 1. , 0.2, 1. ,\n",
       "       1. , 0.8, 1. , 0.8, 0.8, 0.8, 0. , 1. , 0.4, 0.8, 1. , 0. , 1. ,\n",
       "       1. , 0.8, 0.8, 1. , 0. , 0. , 0.8, 0. , 1. , 0. , 1. , 1. , 1. ,\n",
       "       1. , 1. , 0. , 1. , 1. , 0. , 1. , 0.4, 1. , 0. , 0. , 1. , 1. ,\n",
       "       1. , 0. , 1. , 1. , 1. , 1. , 0.8, 1. , 1. , 1. , 1. , 1. , 1. ,\n",
       "       0. , 1. , 0. , 0.4, 0.6, 1. , 1. , 1. , 0.6, 1. , 1. , 1. , 1. ,\n",
       "       1. , 1. , 1. , 1. , 1. , 1. , 1. , 1. , 1. , 1. , 1. , 1. , 1. ,\n",
       "       1. , 0.6, 1. , 0. , 0. , 0. , 0. , 0.2, 0. , 1. ])"
      ]
     },
     "execution_count": 16,
     "metadata": {},
     "output_type": "execute_result"
    }
   ],
   "source": [
    "pipe.predict(X)"
   ]
  },
  {
   "cell_type": "code",
   "execution_count": 17,
   "id": "38a788d8-c9ae-4738-8f49-e11bf000117a",
   "metadata": {},
   "outputs": [
    {
     "data": {
      "text/plain": [
       "<matplotlib.collections.PathCollection at 0x23375fc4550>"
      ]
     },
     "execution_count": 17,
     "metadata": {},
     "output_type": "execute_result"
    },
    {
     "data": {
      "image/png": "[encoded data removed]",
      "text/plain": [
       "<Figure size 640x480 with 1 Axes>"
      ]
     },
     "metadata": {},
     "output_type": "display_data"
    }
   ],
   "source": [
    "#Now we will plot this predictions\n",
    "import matplotlib.pylab as plt\n",
    "model=pipe.fit(X,y)\n",
    "pred=pipe.predict(X)\n",
    "plt.scatter(pred,y)"
   ]
  },
  {
   "cell_type": "markdown",
   "id": "6c817d54-563b-44bd-953e-edbbc3ad532a",
   "metadata": {},
   "source": [
    "# Scikit-Learn with an example"
   ]
  },
  {
   "cell_type": "code",
   "execution_count": 18,
   "id": "11865740-43da-48f0-872d-58561fed49f4",
   "metadata": {},
   "outputs": [],
   "source": [
    "#Importing required Packages\n",
    "import pandas as pd\n",
    "import seaborn as sns\n",
    "import matplotlib.pyplot as plt\n",
    "from sklearn.ensemble import RandomForestClassifier\n",
    "from sklearn.svm import SVC\n",
    "from sklearn import svm\n",
    "from sklearn.neural_network import MLPClassifier\n",
    "from sklearn.metrics import confusion_matrix,classification_report\n",
    "from sklearn.preprocessing import StandardScaler, LabelEncoder\n",
    "from sklearn.model_selection import train_test_split\n",
    "%matplotlib inline"
   ]
  },
  {
   "cell_type": "code",
   "execution_count": 19,
   "id": "0523a89a-e19c-493e-b439-95f8fd5415f7",
   "metadata": {},
   "outputs": [],
   "source": [
    "#Loading Dataset\n",
    "wine=pd.read_csv(\"C:\\\\Users\\\\Keert\\\\OneDrive\\\\Documents\\\\Scikit-Learn\\\\winequality-red.csv\")"
   ]
  },
  {
   "cell_type": "code",
   "execution_count": 20,
   "id": "47690687-1a0d-4be0-8f46-936705d03d73",
   "metadata": {},
   "outputs": [
    {
     "data": {
      "text/html": [
       "<div>\n",
       "<style scoped>\n",
       "    .dataframe tbody tr th:only-of-type {\n",
       "        vertical-align: middle;\n",
       "    }\n",
       "\n",
       "    .dataframe tbody tr th {\n",
       "        vertical-align: top;\n",
       "    }\n",
       "\n",
       "    .dataframe thead th {\n",
       "        text-align: right;\n",
       "    }\n",
       "</style>\n",
       "<table border=\"1\" class=\"dataframe\">\n",
       "  <thead>\n",
       "    <tr style=\"text-align: right;\">\n",
       "      <th></th>\n",
       "      <th>fixed acidity</th>\n",
       "      <th>volatile acidity</th>\n",
       "      <th>citric acid</th>\n",
       "      <th>residual sugar</th>\n",
       "      <th>chlorides</th>\n",
       "      <th>free sulfur dioxide</th>\n",
       "      <th>total sulfur dioxide</th>\n",
       "      <th>density</th>\n",
       "      <th>pH</th>\n",
       "      <th>sulphates</th>\n",
       "      <th>alcohol</th>\n",
       "      <th>quality</th>\n",
       "    </tr>\n",
       "  </thead>\n",
       "  <tbody>\n",
       "    <tr>\n",
       "      <th>0</th>\n",
       "      <td>7.4</td>\n",
       "      <td>0.70</td>\n",
       "      <td>0.00</td>\n",
       "      <td>1.9</td>\n",
       "      <td>0.076</td>\n",
       "      <td>11.0</td>\n",
       "      <td>34.0</td>\n",
       "      <td>0.9978</td>\n",
       "      <td>3.51</td>\n",
       "      <td>0.56</td>\n",
       "      <td>9.4</td>\n",
       "      <td>5</td>\n",
       "    </tr>\n",
       "    <tr>\n",
       "      <th>1</th>\n",
       "      <td>7.8</td>\n",
       "      <td>0.88</td>\n",
       "      <td>0.00</td>\n",
       "      <td>2.6</td>\n",
       "      <td>0.098</td>\n",
       "      <td>25.0</td>\n",
       "      <td>67.0</td>\n",
       "      <td>0.9968</td>\n",
       "      <td>3.20</td>\n",
       "      <td>0.68</td>\n",
       "      <td>9.8</td>\n",
       "      <td>5</td>\n",
       "    </tr>\n",
       "    <tr>\n",
       "      <th>2</th>\n",
       "      <td>7.8</td>\n",
       "      <td>0.76</td>\n",
       "      <td>0.04</td>\n",
       "      <td>2.3</td>\n",
       "      <td>0.092</td>\n",
       "      <td>15.0</td>\n",
       "      <td>54.0</td>\n",
       "      <td>0.9970</td>\n",
       "      <td>3.26</td>\n",
       "      <td>0.65</td>\n",
       "      <td>9.8</td>\n",
       "      <td>5</td>\n",
       "    </tr>\n",
       "    <tr>\n",
       "      <th>3</th>\n",
       "      <td>11.2</td>\n",
       "      <td>0.28</td>\n",
       "      <td>0.56</td>\n",
       "      <td>1.9</td>\n",
       "      <td>0.075</td>\n",
       "      <td>17.0</td>\n",
       "      <td>60.0</td>\n",
       "      <td>0.9980</td>\n",
       "      <td>3.16</td>\n",
       "      <td>0.58</td>\n",
       "      <td>9.8</td>\n",
       "      <td>6</td>\n",
       "    </tr>\n",
       "    <tr>\n",
       "      <th>4</th>\n",
       "      <td>7.4</td>\n",
       "      <td>0.70</td>\n",
       "      <td>0.00</td>\n",
       "      <td>1.9</td>\n",
       "      <td>0.076</td>\n",
       "      <td>11.0</td>\n",
       "      <td>34.0</td>\n",
       "      <td>0.9978</td>\n",
       "      <td>3.51</td>\n",
       "      <td>0.56</td>\n",
       "      <td>9.4</td>\n",
       "      <td>5</td>\n",
       "    </tr>\n",
       "  </tbody>\n",
       "</table>\n",
       "</div>"
      ],
      "text/plain": [
       "   fixed acidity  volatile acidity  citric acid  residual sugar  chlorides  \\\n",
       "0            7.4              0.70         0.00             1.9      0.076   \n",
       "1            7.8              0.88         0.00             2.6      0.098   \n",
       "2            7.8              0.76         0.04             2.3      0.092   \n",
       "3           11.2              0.28         0.56             1.9      0.075   \n",
       "4            7.4              0.70         0.00             1.9      0.076   \n",
       "\n",
       "   free sulfur dioxide  total sulfur dioxide  density    pH  sulphates  \\\n",
       "0                 11.0                  34.0   0.9978  3.51       0.56   \n",
       "1                 25.0                  67.0   0.9968  3.20       0.68   \n",
       "2                 15.0                  54.0   0.9970  3.26       0.65   \n",
       "3                 17.0                  60.0   0.9980  3.16       0.58   \n",
       "4                 11.0                  34.0   0.9978  3.51       0.56   \n",
       "\n",
       "   alcohol  quality  \n",
       "0      9.4        5  \n",
       "1      9.8        5  \n",
       "2      9.8        5  \n",
       "3      9.8        6  \n",
       "4      9.4        5  "
      ]
     },
     "execution_count": 20,
     "metadata": {},
     "output_type": "execute_result"
    }
   ],
   "source": [
    "wine.head()"
   ]
  },
  {
   "cell_type": "code",
   "execution_count": 21,
   "id": "f4bef77f-34e1-4724-b2b0-1c0af7d72442",
   "metadata": {},
   "outputs": [
    {
     "name": "stdout",
     "output_type": "stream",
     "text": [
      "<class 'pandas.core.frame.DataFrame'>\n",
      "RangeIndex: 1599 entries, 0 to 1598\n",
      "Data columns (total 12 columns):\n",
      " #   Column                Non-Null Count  Dtype  \n",
      "---  ------                --------------  -----  \n",
      " 0   fixed acidity         1599 non-null   float64\n",
      " 1   volatile acidity      1599 non-null   float64\n",
      " 2   citric acid           1599 non-null   float64\n",
      " 3   residual sugar        1599 non-null   float64\n",
      " 4   chlorides             1599 non-null   float64\n",
      " 5   free sulfur dioxide   1599 non-null   float64\n",
      " 6   total sulfur dioxide  1599 non-null   float64\n",
      " 7   density               1599 non-null   float64\n",
      " 8   pH                    1599 non-null   float64\n",
      " 9   sulphates             1599 non-null   float64\n",
      " 10  alcohol               1599 non-null   float64\n",
      " 11  quality               1599 non-null   int64  \n",
      "dtypes: float64(11), int64(1)\n",
      "memory usage: 150.0 KB\n"
     ]
    }
   ],
   "source": [
    "wine.info()"
   ]
  },
  {
   "cell_type": "code",
   "execution_count": 22,
   "id": "80baff79-77dd-4750-b4d6-63e2c314a595",
   "metadata": {},
   "outputs": [
    {
     "data": {
      "text/plain": [
       "fixed acidity           0\n",
       "volatile acidity        0\n",
       "citric acid             0\n",
       "residual sugar          0\n",
       "chlorides               0\n",
       "free sulfur dioxide     0\n",
       "total sulfur dioxide    0\n",
       "density                 0\n",
       "pH                      0\n",
       "sulphates               0\n",
       "alcohol                 0\n",
       "quality                 0\n",
       "dtype: int64"
      ]
     },
     "execution_count": 22,
     "metadata": {},
     "output_type": "execute_result"
    }
   ],
   "source": [
    "wine.isnull().sum()"
   ]
  },
  {
   "cell_type": "code",
   "execution_count": 23,
   "id": "91b314a7-c8e4-424d-a6c2-032125c991dd",
   "metadata": {},
   "outputs": [
    {
     "data": {
      "text/plain": [
       "['bad', 'good']\n",
       "Categories (2, object): ['bad' < 'good']"
      ]
     },
     "execution_count": 23,
     "metadata": {},
     "output_type": "execute_result"
    }
   ],
   "source": [
    "#Pre-processing Data\n",
    "bins=(2,6.5,8)\n",
    "group_names=['bad','good']\n",
    "wine['quality']=pd.cut(wine['quality'],bins=bins,labels=group_names)\n",
    "wine['quality'].unique()"
   ]
  },
  {
   "cell_type": "code",
   "execution_count": 24,
   "id": "f9ad0cc0-5819-473c-aa99-3798dfe52a6f",
   "metadata": {},
   "outputs": [],
   "source": [
    "label_quality=LabelEncoder()"
   ]
  },
  {
   "cell_type": "code",
   "execution_count": 25,
   "id": "755ba182-3675-42ec-91fa-93f7c20117a0",
   "metadata": {},
   "outputs": [],
   "source": [
    "wine['quality']=label_quality.fit_transform(wine['quality'])"
   ]
  },
  {
   "cell_type": "code",
   "execution_count": 26,
   "id": "04b805bb-70a4-488a-8f19-f776ce113986",
   "metadata": {},
   "outputs": [
    {
     "data": {
      "text/html": [
       "<div>\n",
       "<style scoped>\n",
       "    .dataframe tbody tr th:only-of-type {\n",
       "        vertical-align: middle;\n",
       "    }\n",
       "\n",
       "    .dataframe tbody tr th {\n",
       "        vertical-align: top;\n",
       "    }\n",
       "\n",
       "    .dataframe thead th {\n",
       "        text-align: right;\n",
       "    }\n",
       "</style>\n",
       "<table border=\"1\" class=\"dataframe\">\n",
       "  <thead>\n",
       "    <tr style=\"text-align: right;\">\n",
       "      <th></th>\n",
       "      <th>fixed acidity</th>\n",
       "      <th>volatile acidity</th>\n",
       "      <th>citric acid</th>\n",
       "      <th>residual sugar</th>\n",
       "      <th>chlorides</th>\n",
       "      <th>free sulfur dioxide</th>\n",
       "      <th>total sulfur dioxide</th>\n",
       "      <th>density</th>\n",
       "      <th>pH</th>\n",
       "      <th>sulphates</th>\n",
       "      <th>alcohol</th>\n",
       "      <th>quality</th>\n",
       "    </tr>\n",
       "  </thead>\n",
       "  <tbody>\n",
       "    <tr>\n",
       "      <th>0</th>\n",
       "      <td>7.4</td>\n",
       "      <td>0.70</td>\n",
       "      <td>0.00</td>\n",
       "      <td>1.9</td>\n",
       "      <td>0.076</td>\n",
       "      <td>11.0</td>\n",
       "      <td>34.0</td>\n",
       "      <td>0.9978</td>\n",
       "      <td>3.51</td>\n",
       "      <td>0.56</td>\n",
       "      <td>9.4</td>\n",
       "      <td>0</td>\n",
       "    </tr>\n",
       "    <tr>\n",
       "      <th>1</th>\n",
       "      <td>7.8</td>\n",
       "      <td>0.88</td>\n",
       "      <td>0.00</td>\n",
       "      <td>2.6</td>\n",
       "      <td>0.098</td>\n",
       "      <td>25.0</td>\n",
       "      <td>67.0</td>\n",
       "      <td>0.9968</td>\n",
       "      <td>3.20</td>\n",
       "      <td>0.68</td>\n",
       "      <td>9.8</td>\n",
       "      <td>0</td>\n",
       "    </tr>\n",
       "    <tr>\n",
       "      <th>2</th>\n",
       "      <td>7.8</td>\n",
       "      <td>0.76</td>\n",
       "      <td>0.04</td>\n",
       "      <td>2.3</td>\n",
       "      <td>0.092</td>\n",
       "      <td>15.0</td>\n",
       "      <td>54.0</td>\n",
       "      <td>0.9970</td>\n",
       "      <td>3.26</td>\n",
       "      <td>0.65</td>\n",
       "      <td>9.8</td>\n",
       "      <td>0</td>\n",
       "    </tr>\n",
       "    <tr>\n",
       "      <th>3</th>\n",
       "      <td>11.2</td>\n",
       "      <td>0.28</td>\n",
       "      <td>0.56</td>\n",
       "      <td>1.9</td>\n",
       "      <td>0.075</td>\n",
       "      <td>17.0</td>\n",
       "      <td>60.0</td>\n",
       "      <td>0.9980</td>\n",
       "      <td>3.16</td>\n",
       "      <td>0.58</td>\n",
       "      <td>9.8</td>\n",
       "      <td>0</td>\n",
       "    </tr>\n",
       "    <tr>\n",
       "      <th>4</th>\n",
       "      <td>7.4</td>\n",
       "      <td>0.70</td>\n",
       "      <td>0.00</td>\n",
       "      <td>1.9</td>\n",
       "      <td>0.076</td>\n",
       "      <td>11.0</td>\n",
       "      <td>34.0</td>\n",
       "      <td>0.9978</td>\n",
       "      <td>3.51</td>\n",
       "      <td>0.56</td>\n",
       "      <td>9.4</td>\n",
       "      <td>0</td>\n",
       "    </tr>\n",
       "  </tbody>\n",
       "</table>\n",
       "</div>"
      ],
      "text/plain": [
       "   fixed acidity  volatile acidity  citric acid  residual sugar  chlorides  \\\n",
       "0            7.4              0.70         0.00             1.9      0.076   \n",
       "1            7.8              0.88         0.00             2.6      0.098   \n",
       "2            7.8              0.76         0.04             2.3      0.092   \n",
       "3           11.2              0.28         0.56             1.9      0.075   \n",
       "4            7.4              0.70         0.00             1.9      0.076   \n",
       "\n",
       "   free sulfur dioxide  total sulfur dioxide  density    pH  sulphates  \\\n",
       "0                 11.0                  34.0   0.9978  3.51       0.56   \n",
       "1                 25.0                  67.0   0.9968  3.20       0.68   \n",
       "2                 15.0                  54.0   0.9970  3.26       0.65   \n",
       "3                 17.0                  60.0   0.9980  3.16       0.58   \n",
       "4                 11.0                  34.0   0.9978  3.51       0.56   \n",
       "\n",
       "   alcohol  quality  \n",
       "0      9.4        0  \n",
       "1      9.8        0  \n",
       "2      9.8        0  \n",
       "3      9.8        0  \n",
       "4      9.4        0  "
      ]
     },
     "execution_count": 26,
     "metadata": {},
     "output_type": "execute_result"
    }
   ],
   "source": [
    "wine.head()"
   ]
  },
  {
   "cell_type": "code",
   "execution_count": 27,
   "id": "d7bb3f22-7704-4e38-8d8b-efdcb9db8727",
   "metadata": {},
   "outputs": [
    {
     "data": {
      "text/plain": [
       "quality\n",
       "0    1382\n",
       "1     217\n",
       "Name: count, dtype: int64"
      ]
     },
     "execution_count": 27,
     "metadata": {},
     "output_type": "execute_result"
    }
   ],
   "source": [
    "wine['quality'].value_counts()"
   ]
  },
  {
   "cell_type": "code",
   "execution_count": 28,
   "id": "e7835fb5-0152-4212-ba2e-199f1ec90144",
   "metadata": {},
   "outputs": [
    {
     "data": {
      "text/plain": [
       "<Axes: xlabel='count', ylabel='count'>"
      ]
     },
     "execution_count": 28,
     "metadata": {},
     "output_type": "execute_result"
    },
    {
     "data": {
      "image/png": "[encoded data removed]",
      "text/plain": [
       "<Figure size 640x480 with 1 Axes>"
      ]
     },
     "metadata": {},
     "output_type": "display_data"
    }
   ],
   "source": [
    "sns.countplot(x=wine['quality'],data=wine['quality'].value_counts())"
   ]
  },
  {
   "cell_type": "code",
   "execution_count": 29,
   "id": "617d8d76-f909-45d8-8133-5ed9863a8523",
   "metadata": {},
   "outputs": [],
   "source": [
    "#Now seperate the dataset as response variable and feature variables\n",
    "X=wine.drop('quality',axis=1)\n",
    "y=wine['quality']"
   ]
  },
  {
   "cell_type": "code",
   "execution_count": 30,
   "id": "8d190529-dc1e-454b-a649-b72d0301fb80",
   "metadata": {},
   "outputs": [],
   "source": [
    "#Train and Test splitting of data\n",
    "X_train,X_test,y_train,y_test= train_test_split(X,y,test_size=0.2,random_state=42)"
   ]
  },
  {
   "cell_type": "code",
   "execution_count": 31,
   "id": "a16c5f66-5b37-4574-9940-9db0fffa51ec",
   "metadata": {},
   "outputs": [],
   "source": [
    "#Applying Standard scaling to get optimized result\n",
    "sc = StandardScaler()\n",
    "X_train = sc.fit_transform(X_train)\n",
    "X_test = sc.transform(X_test)"
   ]
  },
  {
   "cell_type": "code",
   "execution_count": 32,
   "id": "9998b49f-eec8-4ce0-8faa-727081a06918",
   "metadata": {},
   "outputs": [
    {
     "data": {
      "text/plain": [
       "array([[ 0.21833164,  0.88971201,  0.19209222,  0.30972563, -0.04964208,\n",
       "         0.69100692,  1.04293362,  1.84669643,  1.09349989,  0.45822284,\n",
       "         1.12317723],\n",
       "       [-1.29016623, -1.78878251,  0.65275338, -0.80507963, -0.45521361,\n",
       "         2.38847304,  3.59387025, -3.00449133, -0.40043872, -0.40119696,\n",
       "         1.40827174],\n",
       "       [ 1.49475291, -0.78434707,  1.01104539, -0.52637831,  0.59927236,\n",
       "        -0.95796016, -0.99174203,  0.76865471, -0.07566946,  0.51551749,\n",
       "        -0.58738978],\n",
       "       [ 0.27635078,  0.86181102, -0.06383064, -0.66572897, -0.00908493,\n",
       "         0.01202048, -0.71842739,  0.08948842,  0.05423824, -1.08873281,\n",
       "        -0.96751578],\n",
       "       [ 0.04427419,  2.81487994, -0.62686095,  2.39998549, -0.31326357,\n",
       "        -0.47296984,  0.2229897 ,  1.1998714 ,  0.37900751, -0.9741435 ,\n",
       "        -0.49235828],\n",
       "       [-0.07176411, -0.78434707,  1.11341454, -0.17800167,  0.21397941,\n",
       "         3.01896045,  2.62208486,  0.60694845,  0.44396136,  1.89058918,\n",
       "        -0.58738978],\n",
       "       [-1.17412793,  0.10848444, -0.62686095, -0.52637831, -0.23214927,\n",
       "         0.98200112, -0.35400787, -1.95879086,  0.05423824,  0.91658007,\n",
       "         1.12317723],\n",
       "       [-0.1878024 , -0.17052541,  0.60156881,  0.03102432, -0.13075639,\n",
       "        -0.37597178, -0.01995665,  0.93036097,  0.76873063, -0.229313  ,\n",
       "         0.26789373],\n",
       "       [-0.07176411,  0.61070216, -0.01264607, -0.38702766,  0.13286511,\n",
       "        -1.05495822,  0.92146044,  0.37516948, -1.17988496, -0.229313  ,\n",
       "        -1.25261029],\n",
       "       [ 1.8428678 , -1.95618842,  1.21578369,  1.00647892,  0.31537229,\n",
       "        -1.15195628, -0.71842739,  1.52328391, -0.20557717,  1.77599987,\n",
       "        -0.30229528]])"
      ]
     },
     "execution_count": 32,
     "metadata": {},
     "output_type": "execute_result"
    }
   ],
   "source": [
    "X_train[:10]"
   ]
  },
  {
   "cell_type": "markdown",
   "id": "9897409d-4d4a-4148-b62b-75082acbb93e",
   "metadata": {},
   "source": [
    "# Random Forest Classifier"
   ]
  },
  {
   "cell_type": "code",
   "execution_count": 33,
   "id": "2280e9d0-31ff-4622-a1c5-92658ff03413",
   "metadata": {},
   "outputs": [],
   "source": [
    "rfc=RandomForestClassifier(n_estimators=200)\n",
    "rfc.fit(X_train,y_train)\n",
    "pred_rfc=rfc.predict(X_test)"
   ]
  },
  {
   "cell_type": "code",
   "execution_count": 34,
   "id": "16b439bb-5c74-46dc-86b4-c8e0d869d5a8",
   "metadata": {},
   "outputs": [
    {
     "data": {
      "text/plain": [
       "array([0, 0, 0, 0, 0, 0, 0, 0, 0, 0, 1, 0, 0, 0, 0, 0, 0, 0, 1, 0])"
      ]
     },
     "execution_count": 34,
     "metadata": {},
     "output_type": "execute_result"
    }
   ],
   "source": [
    "pred_rfc[:20]"
   ]
  },
  {
   "cell_type": "code",
   "execution_count": 35,
   "id": "74d42f43-70d6-45fb-bc2c-0b8188e09f10",
   "metadata": {},
   "outputs": [
    {
     "name": "stdout",
     "output_type": "stream",
     "text": [
      "              precision    recall  f1-score   support\n",
      "\n",
      "           0       0.92      0.97      0.94       273\n",
      "           1       0.73      0.51      0.60        47\n",
      "\n",
      "    accuracy                           0.90       320\n",
      "   macro avg       0.82      0.74      0.77       320\n",
      "weighted avg       0.89      0.90      0.89       320\n",
      "\n",
      "[[264   9]\n",
      " [ 23  24]]\n"
     ]
    }
   ],
   "source": [
    "#Let's see how our model performed\n",
    "print(classification_report(y_test,pred_rfc))\n",
    "print(confusion_matrix(y_test,pred_rfc))"
   ]
  },
  {
   "cell_type": "markdown",
   "id": "9d0d7305-135e-49a8-991b-c23701e684a6",
   "metadata": {},
   "source": [
    "# SVM Classifier"
   ]
  },
  {
   "cell_type": "code",
   "execution_count": 36,
   "id": "5bf7ea37-154c-46fd-b0d4-98e4797cdccb",
   "metadata": {},
   "outputs": [
    {
     "data": {
      "text/plain": [
       "array([0, 0, 0, 0, 0, 0, 0, 0, 0, 0, 0, 0, 0, 0, 0, 0, 0, 0, 1, 0])"
      ]
     },
     "execution_count": 36,
     "metadata": {},
     "output_type": "execute_result"
    }
   ],
   "source": [
    "clf=svm.SVC()\n",
    "clf.fit(X_train,y_train)\n",
    "pred_clf=clf.predict(X_test)\n",
    "pred_clf[:20]"
   ]
  },
  {
   "cell_type": "code",
   "execution_count": 37,
   "id": "e1388372-bd50-4373-87b7-178bbeeafe5a",
   "metadata": {},
   "outputs": [
    {
     "name": "stdout",
     "output_type": "stream",
     "text": [
      "              precision    recall  f1-score   support\n",
      "\n",
      "           0       0.88      0.98      0.93       273\n",
      "           1       0.71      0.26      0.37        47\n",
      "\n",
      "    accuracy                           0.88       320\n",
      "   macro avg       0.80      0.62      0.65       320\n",
      "weighted avg       0.86      0.88      0.85       320\n",
      "\n",
      "[[268   5]\n",
      " [ 35  12]]\n"
     ]
    }
   ],
   "source": [
    "#Let's see how our model performed\n",
    "print(classification_report(y_test,pred_clf))\n",
    "print(confusion_matrix(y_test,pred_clf))"
   ]
  },
  {
   "cell_type": "markdown",
   "id": "51b73e1e-8ba8-4299-aa90-85cd8e3a841a",
   "metadata": {},
   "source": [
    "# Neural Network"
   ]
  },
  {
   "cell_type": "code",
   "execution_count": 38,
   "id": "a6ae7f2b-175c-484c-b810-c78ea0b33b2a",
   "metadata": {},
   "outputs": [
    {
     "name": "stderr",
     "output_type": "stream",
     "text": [
      "C:\\Users\\Keert\\anaconda3\\Lib\\site-packages\\sklearn\\neural_network\\_multilayer_perceptron.py:686: ConvergenceWarning: Stochastic Optimizer: Maximum iterations (500) reached and the optimization hasn't converged yet.\n",
      "  warnings.warn(\n"
     ]
    },
    {
     "data": {
      "text/plain": [
       "array([0, 0, 0, 0, 0, 0, 0, 0, 0, 0, 0, 0, 0, 0, 0, 0, 0, 0, 1, 0])"
      ]
     },
     "execution_count": 38,
     "metadata": {},
     "output_type": "execute_result"
    }
   ],
   "source": [
    "mlpc=MLPClassifier(hidden_layer_sizes=(11,11,11),max_iter=500)\n",
    "mlpc.fit(X_train,y_train)\n",
    "pred_mlpc=mlpc.predict(X_test)\n",
    "pred_mlpc[:20]"
   ]
  },
  {
   "cell_type": "code",
   "execution_count": 39,
   "id": "ff3c64b5-9f3c-4399-9681-e27e43efbc17",
   "metadata": {},
   "outputs": [
    {
     "name": "stdout",
     "output_type": "stream",
     "text": [
      "              precision    recall  f1-score   support\n",
      "\n",
      "           0       0.90      0.95      0.92       273\n",
      "           1       0.57      0.36      0.44        47\n",
      "\n",
      "    accuracy                           0.87       320\n",
      "   macro avg       0.73      0.66      0.68       320\n",
      "weighted avg       0.85      0.87      0.85       320\n",
      "\n",
      "[[260  13]\n",
      " [ 30  17]]\n"
     ]
    }
   ],
   "source": [
    "#Let's see how our model performed\n",
    "print(classification_report(y_test,pred_mlpc))\n",
    "print(confusion_matrix(y_test,pred_mlpc))"
   ]
  },
  {
   "cell_type": "code",
   "execution_count": 40,
   "id": "8dcee48c-df80-4d41-acc2-2f5a6e64010d",
   "metadata": {},
   "outputs": [
    {
     "data": {
      "text/plain": [
       "0.9"
      ]
     },
     "execution_count": 40,
     "metadata": {},
     "output_type": "execute_result"
    }
   ],
   "source": [
    "from sklearn.metrics import accuracy_score\n",
    "cm=accuracy_score(y_test,pred_rfc)\n",
    "cm"
   ]
  },
  {
   "cell_type": "code",
   "execution_count": 41,
   "id": "2b6ab5cd-eb09-48ca-9a2a-4e8a8e2391dc",
   "metadata": {},
   "outputs": [
    {
     "data": {
      "text/html": [
       "<div>\n",
       "<style scoped>\n",
       "    .dataframe tbody tr th:only-of-type {\n",
       "        vertical-align: middle;\n",
       "    }\n",
       "\n",
       "    .dataframe tbody tr th {\n",
       "        vertical-align: top;\n",
       "    }\n",
       "\n",
       "    .dataframe thead th {\n",
       "        text-align: right;\n",
       "    }\n",
       "</style>\n",
       "<table border=\"1\" class=\"dataframe\">\n",
       "  <thead>\n",
       "    <tr style=\"text-align: right;\">\n",
       "      <th></th>\n",
       "      <th>fixed acidity</th>\n",
       "      <th>volatile acidity</th>\n",
       "      <th>citric acid</th>\n",
       "      <th>residual sugar</th>\n",
       "      <th>chlorides</th>\n",
       "      <th>free sulfur dioxide</th>\n",
       "      <th>total sulfur dioxide</th>\n",
       "      <th>density</th>\n",
       "      <th>pH</th>\n",
       "      <th>sulphates</th>\n",
       "      <th>alcohol</th>\n",
       "      <th>quality</th>\n",
       "    </tr>\n",
       "  </thead>\n",
       "  <tbody>\n",
       "    <tr>\n",
       "      <th>0</th>\n",
       "      <td>7.4</td>\n",
       "      <td>0.70</td>\n",
       "      <td>0.00</td>\n",
       "      <td>1.9</td>\n",
       "      <td>0.076</td>\n",
       "      <td>11.0</td>\n",
       "      <td>34.0</td>\n",
       "      <td>0.9978</td>\n",
       "      <td>3.51</td>\n",
       "      <td>0.56</td>\n",
       "      <td>9.4</td>\n",
       "      <td>0</td>\n",
       "    </tr>\n",
       "    <tr>\n",
       "      <th>1</th>\n",
       "      <td>7.8</td>\n",
       "      <td>0.88</td>\n",
       "      <td>0.00</td>\n",
       "      <td>2.6</td>\n",
       "      <td>0.098</td>\n",
       "      <td>25.0</td>\n",
       "      <td>67.0</td>\n",
       "      <td>0.9968</td>\n",
       "      <td>3.20</td>\n",
       "      <td>0.68</td>\n",
       "      <td>9.8</td>\n",
       "      <td>0</td>\n",
       "    </tr>\n",
       "    <tr>\n",
       "      <th>2</th>\n",
       "      <td>7.8</td>\n",
       "      <td>0.76</td>\n",
       "      <td>0.04</td>\n",
       "      <td>2.3</td>\n",
       "      <td>0.092</td>\n",
       "      <td>15.0</td>\n",
       "      <td>54.0</td>\n",
       "      <td>0.9970</td>\n",
       "      <td>3.26</td>\n",
       "      <td>0.65</td>\n",
       "      <td>9.8</td>\n",
       "      <td>0</td>\n",
       "    </tr>\n",
       "    <tr>\n",
       "      <th>3</th>\n",
       "      <td>11.2</td>\n",
       "      <td>0.28</td>\n",
       "      <td>0.56</td>\n",
       "      <td>1.9</td>\n",
       "      <td>0.075</td>\n",
       "      <td>17.0</td>\n",
       "      <td>60.0</td>\n",
       "      <td>0.9980</td>\n",
       "      <td>3.16</td>\n",
       "      <td>0.58</td>\n",
       "      <td>9.8</td>\n",
       "      <td>0</td>\n",
       "    </tr>\n",
       "    <tr>\n",
       "      <th>4</th>\n",
       "      <td>7.4</td>\n",
       "      <td>0.70</td>\n",
       "      <td>0.00</td>\n",
       "      <td>1.9</td>\n",
       "      <td>0.076</td>\n",
       "      <td>11.0</td>\n",
       "      <td>34.0</td>\n",
       "      <td>0.9978</td>\n",
       "      <td>3.51</td>\n",
       "      <td>0.56</td>\n",
       "      <td>9.4</td>\n",
       "      <td>0</td>\n",
       "    </tr>\n",
       "    <tr>\n",
       "      <th>5</th>\n",
       "      <td>7.4</td>\n",
       "      <td>0.66</td>\n",
       "      <td>0.00</td>\n",
       "      <td>1.8</td>\n",
       "      <td>0.075</td>\n",
       "      <td>13.0</td>\n",
       "      <td>40.0</td>\n",
       "      <td>0.9978</td>\n",
       "      <td>3.51</td>\n",
       "      <td>0.56</td>\n",
       "      <td>9.4</td>\n",
       "      <td>0</td>\n",
       "    </tr>\n",
       "    <tr>\n",
       "      <th>6</th>\n",
       "      <td>7.9</td>\n",
       "      <td>0.60</td>\n",
       "      <td>0.06</td>\n",
       "      <td>1.6</td>\n",
       "      <td>0.069</td>\n",
       "      <td>15.0</td>\n",
       "      <td>59.0</td>\n",
       "      <td>0.9964</td>\n",
       "      <td>3.30</td>\n",
       "      <td>0.46</td>\n",
       "      <td>9.4</td>\n",
       "      <td>0</td>\n",
       "    </tr>\n",
       "    <tr>\n",
       "      <th>7</th>\n",
       "      <td>7.3</td>\n",
       "      <td>0.65</td>\n",
       "      <td>0.00</td>\n",
       "      <td>1.2</td>\n",
       "      <td>0.065</td>\n",
       "      <td>15.0</td>\n",
       "      <td>21.0</td>\n",
       "      <td>0.9946</td>\n",
       "      <td>3.39</td>\n",
       "      <td>0.47</td>\n",
       "      <td>10.0</td>\n",
       "      <td>1</td>\n",
       "    </tr>\n",
       "    <tr>\n",
       "      <th>8</th>\n",
       "      <td>7.8</td>\n",
       "      <td>0.58</td>\n",
       "      <td>0.02</td>\n",
       "      <td>2.0</td>\n",
       "      <td>0.073</td>\n",
       "      <td>9.0</td>\n",
       "      <td>18.0</td>\n",
       "      <td>0.9968</td>\n",
       "      <td>3.36</td>\n",
       "      <td>0.57</td>\n",
       "      <td>9.5</td>\n",
       "      <td>1</td>\n",
       "    </tr>\n",
       "    <tr>\n",
       "      <th>9</th>\n",
       "      <td>7.5</td>\n",
       "      <td>0.50</td>\n",
       "      <td>0.36</td>\n",
       "      <td>6.1</td>\n",
       "      <td>0.071</td>\n",
       "      <td>17.0</td>\n",
       "      <td>102.0</td>\n",
       "      <td>0.9978</td>\n",
       "      <td>3.35</td>\n",
       "      <td>0.80</td>\n",
       "      <td>10.5</td>\n",
       "      <td>0</td>\n",
       "    </tr>\n",
       "    <tr>\n",
       "      <th>10</th>\n",
       "      <td>6.7</td>\n",
       "      <td>0.58</td>\n",
       "      <td>0.08</td>\n",
       "      <td>1.8</td>\n",
       "      <td>0.097</td>\n",
       "      <td>15.0</td>\n",
       "      <td>65.0</td>\n",
       "      <td>0.9959</td>\n",
       "      <td>3.28</td>\n",
       "      <td>0.54</td>\n",
       "      <td>9.2</td>\n",
       "      <td>0</td>\n",
       "    </tr>\n",
       "  </tbody>\n",
       "</table>\n",
       "</div>"
      ],
      "text/plain": [
       "    fixed acidity  volatile acidity  citric acid  residual sugar  chlorides  \\\n",
       "0             7.4              0.70         0.00             1.9      0.076   \n",
       "1             7.8              0.88         0.00             2.6      0.098   \n",
       "2             7.8              0.76         0.04             2.3      0.092   \n",
       "3            11.2              0.28         0.56             1.9      0.075   \n",
       "4             7.4              0.70         0.00             1.9      0.076   \n",
       "5             7.4              0.66         0.00             1.8      0.075   \n",
       "6             7.9              0.60         0.06             1.6      0.069   \n",
       "7             7.3              0.65         0.00             1.2      0.065   \n",
       "8             7.8              0.58         0.02             2.0      0.073   \n",
       "9             7.5              0.50         0.36             6.1      0.071   \n",
       "10            6.7              0.58         0.08             1.8      0.097   \n",
       "\n",
       "    free sulfur dioxide  total sulfur dioxide  density    pH  sulphates  \\\n",
       "0                  11.0                  34.0   0.9978  3.51       0.56   \n",
       "1                  25.0                  67.0   0.9968  3.20       0.68   \n",
       "2                  15.0                  54.0   0.9970  3.26       0.65   \n",
       "3                  17.0                  60.0   0.9980  3.16       0.58   \n",
       "4                  11.0                  34.0   0.9978  3.51       0.56   \n",
       "5                  13.0                  40.0   0.9978  3.51       0.56   \n",
       "6                  15.0                  59.0   0.9964  3.30       0.46   \n",
       "7                  15.0                  21.0   0.9946  3.39       0.47   \n",
       "8                   9.0                  18.0   0.9968  3.36       0.57   \n",
       "9                  17.0                 102.0   0.9978  3.35       0.80   \n",
       "10                 15.0                  65.0   0.9959  3.28       0.54   \n",
       "\n",
       "    alcohol  quality  \n",
       "0       9.4        0  \n",
       "1       9.8        0  \n",
       "2       9.8        0  \n",
       "3       9.8        0  \n",
       "4       9.4        0  \n",
       "5       9.4        0  \n",
       "6       9.4        0  \n",
       "7      10.0        1  \n",
       "8       9.5        1  \n",
       "9      10.5        0  \n",
       "10      9.2        0  "
      ]
     },
     "execution_count": 41,
     "metadata": {},
     "output_type": "execute_result"
    }
   ],
   "source": [
    "wine[:11]"
   ]
  },
  {
   "cell_type": "code",
   "execution_count": 46,
   "id": "40c14736-a21b-4cfb-ad84-707b96f9acb1",
   "metadata": {},
   "outputs": [
    {
     "name": "stderr",
     "output_type": "stream",
     "text": [
      "C:\\Users\\Keert\\anaconda3\\Lib\\site-packages\\sklearn\\base.py:439: UserWarning: X does not have valid feature names, but StandardScaler was fitted with feature names\n",
      "  warnings.warn(\n"
     ]
    },
    {
     "data": {
      "text/plain": [
       "array([0])"
      ]
     },
     "execution_count": 46,
     "metadata": {},
     "output_type": "execute_result"
    }
   ],
   "source": [
    "Xnew=[[7.3,0.58,0.00,2.0,0.065,15.0,21.0,0.9946,3.36,0.47,10.0]]\n",
    "Xnew=sc.transform(Xnew)\n",
    "ynew=rfc.predict(Xnew)\n",
    "ynew"
   ]
  },
  {
   "cell_type": "code",
   "execution_count": null,
   "id": "7382c3cc-a80c-488f-8931-fa0a1e2671df",
   "metadata": {},
   "outputs": [],
   "source": []
  }
 ],
 "metadata": {
  "kernelspec": {
   "display_name": "Python 3 (ipykernel)",
   "language": "python",
   "name": "python3"
  },
  "language_info": {
   "codemirror_mode": {
    "name": "ipython",
    "version": 3
   },
   "file_extension": ".py",
   "mimetype": "text/x-python",
   "name": "python",
   "nbconvert_exporter": "python",
   "pygments_lexer": "ipython3",
   "version": "3.11.7"
  }
 },
 "nbformat": 4,
 "nbformat_minor": 5
}
